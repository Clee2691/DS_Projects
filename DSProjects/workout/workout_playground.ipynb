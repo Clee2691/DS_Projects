{
 "nbformat": 4,
 "nbformat_minor": 2,
 "metadata": {
  "language_info": {
   "name": "python",
   "codemirror_mode": {
    "name": "ipython",
    "version": 3
   },
   "version": "3.7.4-final"
  },
  "orig_nbformat": 2,
  "file_extension": ".py",
  "mimetype": "text/x-python",
  "name": "python",
  "npconvert_exporter": "python",
  "pygments_lexer": "ipython3",
  "version": 3,
  "kernelspec": {
   "name": "python37464bitvenvvenve9c1ae90b66648e1b1faed220c3b4031",
   "display_name": "Python 3.7.4 64-bit ('venv': venv)"
  }
 },
 "cells": [
  {
   "cell_type": "code",
   "execution_count": 100,
   "metadata": {},
   "outputs": [],
   "source": [
    "import requests\n",
    "from bs4 import BeautifulSoup\n",
    "import pandas as pd\n",
    "import csv\n",
    "from datetime import datetime"
   ]
  },
  {
   "cell_type": "code",
   "execution_count": 140,
   "metadata": {},
   "outputs": [
    {
     "name": "stdout",
     "output_type": "stream",
     "text": "https://www.jefit.com/members/user-logs/log/?xid=3806546&dd=2020-02-05\n"
    }
   ],
   "source": [
    "# 1rm for 5x5 = Max = ((weight X reps) X 0.0333) + weight\n",
    "\n",
    "base_url = 'https://www.jefit.com/members/user-logs/log/?xid='\n",
    "user_id = '3806546'\n",
    "specific_date = '2020-02-05' # Must be in YYYY-MM-DD\n",
    "\n",
    "request_url = base_url + user_id + '&dd=' + specific_date\n",
    "print(request_url)"
   ]
  },
  {
   "cell_type": "code",
   "execution_count": 133,
   "metadata": {},
   "outputs": [],
   "source": [
    "def date_list_maker(year):\n",
    "    \n",
    "    date_list = []\n",
    "\n",
    "    for month in range(1, 13):\n",
    "        for day in range(1, 32):\n",
    "            try:\n",
    "                date_list.append(datetime(year, month, day).strftime(\"%Y-%m-%d\"))\n",
    "                #print(datetime(2020, month, day).strftime(\"%Y-%m-%d\"))\n",
    "            except ValueError:\n",
    "                pass\n",
    "    return date_list"
   ]
  },
  {
   "cell_type": "code",
   "execution_count": 137,
   "metadata": {},
   "outputs": [],
   "source": [
    "date_list_2016 = date_list_maker(2016)\n",
    "date_list_2017 = date_list_maker(2017)\n",
    "date_list_2018 = date_list_maker(2018)\n",
    "date_list_2019 = date_list_maker(2019)"
   ]
  },
  {
   "cell_type": "code",
   "execution_count": 139,
   "metadata": {},
   "outputs": [
    {
     "data": {
      "text/plain": "['2018-01-01',\n '2018-01-02',\n '2018-01-03',\n '2018-01-04',\n '2018-01-05',\n '2018-01-06',\n '2018-01-07',\n '2018-01-08',\n '2018-01-09',\n '2018-01-10',\n '2018-01-11',\n '2018-01-12',\n '2018-01-13',\n '2018-01-14',\n '2018-01-15',\n '2018-01-16',\n '2018-01-17',\n '2018-01-18',\n '2018-01-19',\n '2018-01-20',\n '2018-01-21',\n '2018-01-22',\n '2018-01-23',\n '2018-01-24',\n '2018-01-25',\n '2018-01-26',\n '2018-01-27',\n '2018-01-28',\n '2018-01-29',\n '2018-01-30',\n '2018-01-31',\n '2018-02-01',\n '2018-02-02',\n '2018-02-03',\n '2018-02-04',\n '2018-02-05',\n '2018-02-06',\n '2018-02-07',\n '2018-02-08',\n '2018-02-09',\n '2018-02-10',\n '2018-02-11',\n '2018-02-12',\n '2018-02-13',\n '2018-02-14',\n '2018-02-15',\n '2018-02-16',\n '2018-02-17',\n '2018-02-18',\n '2018-02-19',\n '2018-02-20',\n '2018-02-21',\n '2018-02-22',\n '2018-02-23',\n '2018-02-24',\n '2018-02-25',\n '2018-02-26',\n '2018-02-27',\n '2018-02-28',\n '2018-03-01',\n '2018-03-02',\n '2018-03-03',\n '2018-03-04',\n '2018-03-05',\n '2018-03-06',\n '2018-03-07',\n '2018-03-08',\n '2018-03-09',\n '2018-03-10',\n '2018-03-11',\n '2018-03-12',\n '2018-03-13',\n '2018-03-14',\n '2018-03-15',\n '2018-03-16',\n '2018-03-17',\n '2018-03-18',\n '2018-03-19',\n '2018-03-20',\n '2018-03-21',\n '2018-03-22',\n '2018-03-23',\n '2018-03-24',\n '2018-03-25',\n '2018-03-26',\n '2018-03-27',\n '2018-03-28',\n '2018-03-29',\n '2018-03-30',\n '2018-03-31',\n '2018-04-01',\n '2018-04-02',\n '2018-04-03',\n '2018-04-04',\n '2018-04-05',\n '2018-04-06',\n '2018-04-07',\n '2018-04-08',\n '2018-04-09',\n '2018-04-10',\n '2018-04-11',\n '2018-04-12',\n '2018-04-13',\n '2018-04-14',\n '2018-04-15',\n '2018-04-16',\n '2018-04-17',\n '2018-04-18',\n '2018-04-19',\n '2018-04-20',\n '2018-04-21',\n '2018-04-22',\n '2018-04-23',\n '2018-04-24',\n '2018-04-25',\n '2018-04-26',\n '2018-04-27',\n '2018-04-28',\n '2018-04-29',\n '2018-04-30',\n '2018-05-01',\n '2018-05-02',\n '2018-05-03',\n '2018-05-04',\n '2018-05-05',\n '2018-05-06',\n '2018-05-07',\n '2018-05-08',\n '2018-05-09',\n '2018-05-10',\n '2018-05-11',\n '2018-05-12',\n '2018-05-13',\n '2018-05-14',\n '2018-05-15',\n '2018-05-16',\n '2018-05-17',\n '2018-05-18',\n '2018-05-19',\n '2018-05-20',\n '2018-05-21',\n '2018-05-22',\n '2018-05-23',\n '2018-05-24',\n '2018-05-25',\n '2018-05-26',\n '2018-05-27',\n '2018-05-28',\n '2018-05-29',\n '2018-05-30',\n '2018-05-31',\n '2018-06-01',\n '2018-06-02',\n '2018-06-03',\n '2018-06-04',\n '2018-06-05',\n '2018-06-06',\n '2018-06-07',\n '2018-06-08',\n '2018-06-09',\n '2018-06-10',\n '2018-06-11',\n '2018-06-12',\n '2018-06-13',\n '2018-06-14',\n '2018-06-15',\n '2018-06-16',\n '2018-06-17',\n '2018-06-18',\n '2018-06-19',\n '2018-06-20',\n '2018-06-21',\n '2018-06-22',\n '2018-06-23',\n '2018-06-24',\n '2018-06-25',\n '2018-06-26',\n '2018-06-27',\n '2018-06-28',\n '2018-06-29',\n '2018-06-30',\n '2018-07-01',\n '2018-07-02',\n '2018-07-03',\n '2018-07-04',\n '2018-07-05',\n '2018-07-06',\n '2018-07-07',\n '2018-07-08',\n '2018-07-09',\n '2018-07-10',\n '2018-07-11',\n '2018-07-12',\n '2018-07-13',\n '2018-07-14',\n '2018-07-15',\n '2018-07-16',\n '2018-07-17',\n '2018-07-18',\n '2018-07-19',\n '2018-07-20',\n '2018-07-21',\n '2018-07-22',\n '2018-07-23',\n '2018-07-24',\n '2018-07-25',\n '2018-07-26',\n '2018-07-27',\n '2018-07-28',\n '2018-07-29',\n '2018-07-30',\n '2018-07-31',\n '2018-08-01',\n '2018-08-02',\n '2018-08-03',\n '2018-08-04',\n '2018-08-05',\n '2018-08-06',\n '2018-08-07',\n '2018-08-08',\n '2018-08-09',\n '2018-08-10',\n '2018-08-11',\n '2018-08-12',\n '2018-08-13',\n '2018-08-14',\n '2018-08-15',\n '2018-08-16',\n '2018-08-17',\n '2018-08-18',\n '2018-08-19',\n '2018-08-20',\n '2018-08-21',\n '2018-08-22',\n '2018-08-23',\n '2018-08-24',\n '2018-08-25',\n '2018-08-26',\n '2018-08-27',\n '2018-08-28',\n '2018-08-29',\n '2018-08-30',\n '2018-08-31',\n '2018-09-01',\n '2018-09-02',\n '2018-09-03',\n '2018-09-04',\n '2018-09-05',\n '2018-09-06',\n '2018-09-07',\n '2018-09-08',\n '2018-09-09',\n '2018-09-10',\n '2018-09-11',\n '2018-09-12',\n '2018-09-13',\n '2018-09-14',\n '2018-09-15',\n '2018-09-16',\n '2018-09-17',\n '2018-09-18',\n '2018-09-19',\n '2018-09-20',\n '2018-09-21',\n '2018-09-22',\n '2018-09-23',\n '2018-09-24',\n '2018-09-25',\n '2018-09-26',\n '2018-09-27',\n '2018-09-28',\n '2018-09-29',\n '2018-09-30',\n '2018-10-01',\n '2018-10-02',\n '2018-10-03',\n '2018-10-04',\n '2018-10-05',\n '2018-10-06',\n '2018-10-07',\n '2018-10-08',\n '2018-10-09',\n '2018-10-10',\n '2018-10-11',\n '2018-10-12',\n '2018-10-13',\n '2018-10-14',\n '2018-10-15',\n '2018-10-16',\n '2018-10-17',\n '2018-10-18',\n '2018-10-19',\n '2018-10-20',\n '2018-10-21',\n '2018-10-22',\n '2018-10-23',\n '2018-10-24',\n '2018-10-25',\n '2018-10-26',\n '2018-10-27',\n '2018-10-28',\n '2018-10-29',\n '2018-10-30',\n '2018-10-31',\n '2018-11-01',\n '2018-11-02',\n '2018-11-03',\n '2018-11-04',\n '2018-11-05',\n '2018-11-06',\n '2018-11-07',\n '2018-11-08',\n '2018-11-09',\n '2018-11-10',\n '2018-11-11',\n '2018-11-12',\n '2018-11-13',\n '2018-11-14',\n '2018-11-15',\n '2018-11-16',\n '2018-11-17',\n '2018-11-18',\n '2018-11-19',\n '2018-11-20',\n '2018-11-21',\n '2018-11-22',\n '2018-11-23',\n '2018-11-24',\n '2018-11-25',\n '2018-11-26',\n '2018-11-27',\n '2018-11-28',\n '2018-11-29',\n '2018-11-30',\n '2018-12-01',\n '2018-12-02',\n '2018-12-03',\n '2018-12-04',\n '2018-12-05',\n '2018-12-06',\n '2018-12-07',\n '2018-12-08',\n '2018-12-09',\n '2018-12-10',\n '2018-12-11',\n '2018-12-12',\n '2018-12-13',\n '2018-12-14',\n '2018-12-15',\n '2018-12-16',\n '2018-12-17',\n '2018-12-18',\n '2018-12-19',\n '2018-12-20',\n '2018-12-21',\n '2018-12-22',\n '2018-12-23',\n '2018-12-24',\n '2018-12-25',\n '2018-12-26',\n '2018-12-27',\n '2018-12-28',\n '2018-12-29',\n '2018-12-30',\n '2018-12-31']"
     },
     "execution_count": 139,
     "metadata": {},
     "output_type": "execute_result"
    }
   ],
   "source": [
    "date_list_2018"
   ]
  },
  {
   "cell_type": "code",
   "execution_count": 141,
   "metadata": {},
   "outputs": [],
   "source": [
    "user_workout = requests.get(request_url).text"
   ]
  },
  {
   "cell_type": "code",
   "execution_count": 142,
   "metadata": {},
   "outputs": [],
   "source": [
    "workout_html_parse = BeautifulSoup(user_workout)"
   ]
  },
  {
   "cell_type": "code",
   "execution_count": 143,
   "metadata": {},
   "outputs": [
    {
     "data": {
      "text/plain": "[]"
     },
     "execution_count": 143,
     "metadata": {},
     "output_type": "execute_result"
    }
   ],
   "source": [
    "workout_html_parse(class_=\"exercise-block\")"
   ]
  },
  {
   "cell_type": "code",
   "execution_count": null,
   "metadata": {},
   "outputs": [],
   "source": [
    "\"\"\"\n",
    "Fields of interest:\n",
    "logid\n",
    "exerciseid\n",
    "ename - exercise name\n",
    "date\n",
    "\"\"\""
   ]
  },
  {
   "cell_type": "code",
   "execution_count": 2,
   "metadata": {},
   "outputs": [
    {
     "ename": "NameError",
     "evalue": "name 'workout_html_parse' is not defined",
     "output_type": "error",
     "traceback": [
      "\u001b[1;31m---------------------------------------------------------------------------\u001b[0m",
      "\u001b[1;31mNameError\u001b[0m                                 Traceback (most recent call last)",
      "\u001b[1;32m<ipython-input-2-768c8abe28f0>\u001b[0m in \u001b[0;36m<module>\u001b[1;34m\u001b[0m\n\u001b[1;32m----> 1\u001b[1;33m \u001b[0mexercises_only\u001b[0m \u001b[1;33m=\u001b[0m \u001b[0mworkout_html_parse\u001b[0m\u001b[1;33m(\u001b[0m\u001b[0mclass_\u001b[0m\u001b[1;33m=\u001b[0m\u001b[1;34m\"exercise-block\"\u001b[0m\u001b[1;33m)\u001b[0m \u001b[1;31m# Returns a list of exercises\u001b[0m\u001b[1;33m\u001b[0m\u001b[1;33m\u001b[0m\u001b[0m\n\u001b[0m",
      "\u001b[1;31mNameError\u001b[0m: name 'workout_html_parse' is not defined"
     ]
    }
   ],
   "source": [
    "exercises_only = workout_html_parse(class_=\"exercise-block\") # Returns a list of exercises"
   ]
  },
  {
   "cell_type": "code",
   "execution_count": 1,
   "metadata": {},
   "outputs": [
    {
     "ename": "NameError",
     "evalue": "name 'exercises_only' is not defined",
     "output_type": "error",
     "traceback": [
      "\u001b[1;31m---------------------------------------------------------------------------\u001b[0m",
      "\u001b[1;31mNameError\u001b[0m                                 Traceback (most recent call last)",
      "\u001b[1;32m<ipython-input-1-46ae5cbae304>\u001b[0m in \u001b[0;36m<module>\u001b[1;34m\u001b[0m\n\u001b[1;32m----> 1\u001b[1;33m \u001b[0mexercises_only\u001b[0m\u001b[1;33m[\u001b[0m\u001b[1;36m0\u001b[0m\u001b[1;33m]\u001b[0m\u001b[1;33m\u001b[0m\u001b[1;33m\u001b[0m\u001b[0m\n\u001b[0m",
      "\u001b[1;31mNameError\u001b[0m: name 'exercises_only' is not defined"
     ]
    }
   ],
   "source": [
    "exercises_only[0]"
   ]
  },
  {
   "cell_type": "code",
   "execution_count": 79,
   "metadata": {},
   "outputs": [
    {
     "data": {
      "text/plain": "[<input class=\"inputlog decimal\" maxlength=\"6\" name=\"weight\" size=\"3\" type=\"text\" value=\"255\"/>,\n <input class=\"inputlog decimal\" maxlength=\"6\" name=\"weight\" size=\"3\" type=\"text\" value=\"255\"/>,\n <input class=\"inputlog decimal\" maxlength=\"6\" name=\"weight\" size=\"3\" type=\"text\" value=\"255\"/>,\n <input class=\"inputlog decimal\" maxlength=\"6\" name=\"weight\" size=\"3\" type=\"text\" value=\"255\"/>,\n <input class=\"inputlog decimal\" maxlength=\"6\" name=\"weight\" size=\"3\" type=\"text\" value=\"255\"/>]"
     },
     "execution_count": 79,
     "metadata": {},
     "output_type": "execute_result"
    }
   ],
   "source": [
    "exercises_only[0].select(\"input[name='weight']\")"
   ]
  },
  {
   "cell_type": "code",
   "execution_count": 92,
   "metadata": {},
   "outputs": [],
   "source": [
    "with open('workout_list.csv', 'w', newline ='') as workout_file:\n",
    "    writer = csv.writer(workout_file, delimiter=',')\n",
    "    writer.writerow(['date', 'log_id', 'exercise_id', 'exercise_name', 'set_number', 'weight', 'rep'])\n"
   ]
  },
  {
   "cell_type": "code",
   "execution_count": 95,
   "metadata": {},
   "outputs": [],
   "source": [
    "def entry_grabber(exercise_elements):\n",
    "    log_entry_list = []\n",
    "\n",
    "    for exercise in exercise_elements:\n",
    "        # Exercise Details\n",
    "        log_id = exercise.select(\"input[name='logid']\")[0]['value']\n",
    "        exercise_id = exercise.select(\"input[name='exerciseid']\")[0]['value']\n",
    "        exercise_name = exercise.select(\"input[name='ename']\")[0]['value']\n",
    "        log_date = exercise.select(\"input[name='date']\")[0]['value']\n",
    "\n",
    "        x = 1\n",
    "        # weight and rep for each exercise\n",
    "        for weight, rep in zip(exercise.select(\"input[name='weight']\"), exercise.select(\"input[name='rep']\")):\n",
    "\n",
    "            set_number = x # Specify which set number it is; not hardcoded in a value\n",
    "            weight_value = weight['value']\n",
    "            rep_value = rep['value']\n",
    "\n",
    "            log_entry_list.append([log_date, log_id, exercise_id, exercise_name, set_number, weight_value, rep_value])\n",
    "\n",
    "            x += 1\n",
    "\n",
    "    return log_entry_list\n",
    "    "
   ]
  },
  {
   "cell_type": "code",
   "execution_count": 96,
   "metadata": {},
   "outputs": [],
   "source": [
    "entry = entry_grabber(exercises_only)"
   ]
  },
  {
   "cell_type": "code",
   "execution_count": 97,
   "metadata": {},
   "outputs": [],
   "source": [
    "with open('workout_list.csv', 'a', newline='') as workout_file:\n",
    "    writer=csv.writer(workout_file, delimiter=',')\n",
    "    for data in entry:\n",
    "        writer.writerow(data)"
   ]
  },
  {
   "cell_type": "code",
   "execution_count": 98,
   "metadata": {},
   "outputs": [],
   "source": [
    "df = pd.read_csv('workout_list.csv')"
   ]
  },
  {
   "cell_type": "code",
   "execution_count": 99,
   "metadata": {},
   "outputs": [
    {
     "data": {
      "text/html": "<div>\n<style scoped>\n    .dataframe tbody tr th:only-of-type {\n        vertical-align: middle;\n    }\n\n    .dataframe tbody tr th {\n        vertical-align: top;\n    }\n\n    .dataframe thead th {\n        text-align: right;\n    }\n</style>\n<table border=\"1\" class=\"dataframe\">\n  <thead>\n    <tr style=\"text-align: right;\">\n      <th></th>\n      <th>date</th>\n      <th>log_id</th>\n      <th>exercise_id</th>\n      <th>exercise_name</th>\n      <th>set_number</th>\n      <th>weight</th>\n      <th>rep</th>\n    </tr>\n  </thead>\n  <tbody>\n    <tr>\n      <th>0</th>\n      <td>2020-02-04</td>\n      <td>3886</td>\n      <td>12</td>\n      <td>Barbell Squat</td>\n      <td>1</td>\n      <td>255</td>\n      <td>5</td>\n    </tr>\n    <tr>\n      <th>1</th>\n      <td>2020-02-04</td>\n      <td>3886</td>\n      <td>12</td>\n      <td>Barbell Squat</td>\n      <td>2</td>\n      <td>255</td>\n      <td>5</td>\n    </tr>\n    <tr>\n      <th>2</th>\n      <td>2020-02-04</td>\n      <td>3886</td>\n      <td>12</td>\n      <td>Barbell Squat</td>\n      <td>3</td>\n      <td>255</td>\n      <td>5</td>\n    </tr>\n    <tr>\n      <th>3</th>\n      <td>2020-02-04</td>\n      <td>3886</td>\n      <td>12</td>\n      <td>Barbell Squat</td>\n      <td>4</td>\n      <td>255</td>\n      <td>5</td>\n    </tr>\n    <tr>\n      <th>4</th>\n      <td>2020-02-04</td>\n      <td>3886</td>\n      <td>12</td>\n      <td>Barbell Squat</td>\n      <td>5</td>\n      <td>255</td>\n      <td>5</td>\n    </tr>\n    <tr>\n      <th>5</th>\n      <td>2020-02-04</td>\n      <td>3887</td>\n      <td>132</td>\n      <td>Leg Press</td>\n      <td>1</td>\n      <td>320</td>\n      <td>10</td>\n    </tr>\n    <tr>\n      <th>6</th>\n      <td>2020-02-04</td>\n      <td>3887</td>\n      <td>132</td>\n      <td>Leg Press</td>\n      <td>2</td>\n      <td>320</td>\n      <td>10</td>\n    </tr>\n    <tr>\n      <th>7</th>\n      <td>2020-02-04</td>\n      <td>3887</td>\n      <td>132</td>\n      <td>Leg Press</td>\n      <td>3</td>\n      <td>320</td>\n      <td>10</td>\n    </tr>\n    <tr>\n      <th>8</th>\n      <td>2020-02-04</td>\n      <td>3887</td>\n      <td>132</td>\n      <td>Leg Press</td>\n      <td>4</td>\n      <td>320</td>\n      <td>10</td>\n    </tr>\n    <tr>\n      <th>9</th>\n      <td>2020-02-04</td>\n      <td>3888</td>\n      <td>160</td>\n      <td>Lying Leg Curls</td>\n      <td>1</td>\n      <td>130</td>\n      <td>10</td>\n    </tr>\n    <tr>\n      <th>10</th>\n      <td>2020-02-04</td>\n      <td>3888</td>\n      <td>160</td>\n      <td>Lying Leg Curls</td>\n      <td>2</td>\n      <td>130</td>\n      <td>10</td>\n    </tr>\n    <tr>\n      <th>11</th>\n      <td>2020-02-04</td>\n      <td>3888</td>\n      <td>160</td>\n      <td>Lying Leg Curls</td>\n      <td>3</td>\n      <td>130</td>\n      <td>10</td>\n    </tr>\n    <tr>\n      <th>12</th>\n      <td>2020-02-04</td>\n      <td>3888</td>\n      <td>160</td>\n      <td>Lying Leg Curls</td>\n      <td>4</td>\n      <td>130</td>\n      <td>10</td>\n    </tr>\n    <tr>\n      <th>13</th>\n      <td>2020-02-04</td>\n      <td>3889</td>\n      <td>145</td>\n      <td>Standing Calf Raises</td>\n      <td>1</td>\n      <td>320</td>\n      <td>10</td>\n    </tr>\n    <tr>\n      <th>14</th>\n      <td>2020-02-04</td>\n      <td>3889</td>\n      <td>145</td>\n      <td>Standing Calf Raises</td>\n      <td>2</td>\n      <td>320</td>\n      <td>8</td>\n    </tr>\n    <tr>\n      <th>15</th>\n      <td>2020-02-04</td>\n      <td>3889</td>\n      <td>145</td>\n      <td>Standing Calf Raises</td>\n      <td>3</td>\n      <td>320</td>\n      <td>10</td>\n    </tr>\n    <tr>\n      <th>16</th>\n      <td>2020-02-04</td>\n      <td>3889</td>\n      <td>145</td>\n      <td>Standing Calf Raises</td>\n      <td>4</td>\n      <td>320</td>\n      <td>10</td>\n    </tr>\n    <tr>\n      <th>17</th>\n      <td>2020-02-04</td>\n      <td>3890</td>\n      <td>130</td>\n      <td>Leg Extensions</td>\n      <td>1</td>\n      <td>155</td>\n      <td>10</td>\n    </tr>\n    <tr>\n      <th>18</th>\n      <td>2020-02-04</td>\n      <td>3890</td>\n      <td>130</td>\n      <td>Leg Extensions</td>\n      <td>2</td>\n      <td>155</td>\n      <td>10</td>\n    </tr>\n    <tr>\n      <th>19</th>\n      <td>2020-02-04</td>\n      <td>3890</td>\n      <td>130</td>\n      <td>Leg Extensions</td>\n      <td>3</td>\n      <td>155</td>\n      <td>10</td>\n    </tr>\n  </tbody>\n</table>\n</div>",
      "text/plain": "          date  log_id  exercise_id         exercise_name  set_number  weight  \\\n0   2020-02-04    3886           12         Barbell Squat           1     255   \n1   2020-02-04    3886           12         Barbell Squat           2     255   \n2   2020-02-04    3886           12         Barbell Squat           3     255   \n3   2020-02-04    3886           12         Barbell Squat           4     255   \n4   2020-02-04    3886           12         Barbell Squat           5     255   \n5   2020-02-04    3887          132             Leg Press           1     320   \n6   2020-02-04    3887          132             Leg Press           2     320   \n7   2020-02-04    3887          132             Leg Press           3     320   \n8   2020-02-04    3887          132             Leg Press           4     320   \n9   2020-02-04    3888          160       Lying Leg Curls           1     130   \n10  2020-02-04    3888          160       Lying Leg Curls           2     130   \n11  2020-02-04    3888          160       Lying Leg Curls           3     130   \n12  2020-02-04    3888          160       Lying Leg Curls           4     130   \n13  2020-02-04    3889          145  Standing Calf Raises           1     320   \n14  2020-02-04    3889          145  Standing Calf Raises           2     320   \n15  2020-02-04    3889          145  Standing Calf Raises           3     320   \n16  2020-02-04    3889          145  Standing Calf Raises           4     320   \n17  2020-02-04    3890          130        Leg Extensions           1     155   \n18  2020-02-04    3890          130        Leg Extensions           2     155   \n19  2020-02-04    3890          130        Leg Extensions           3     155   \n\n    rep  \n0     5  \n1     5  \n2     5  \n3     5  \n4     5  \n5    10  \n6    10  \n7    10  \n8    10  \n9    10  \n10   10  \n11   10  \n12   10  \n13   10  \n14    8  \n15   10  \n16   10  \n17   10  \n18   10  \n19   10  "
     },
     "execution_count": 99,
     "metadata": {},
     "output_type": "execute_result"
    }
   ],
   "source": [
    "df.head(20)"
   ]
  },
  {
   "cell_type": "code",
   "execution_count": null,
   "metadata": {},
   "outputs": [],
   "source": []
  }
 ]
}