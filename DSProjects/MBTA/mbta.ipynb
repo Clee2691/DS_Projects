{
 "nbformat": 4,
 "nbformat_minor": 2,
 "metadata": {
  "language_info": {
   "name": "python",
   "codemirror_mode": {
    "name": "ipython",
    "version": 3
   },
   "version": "3.7.4-final"
  },
  "orig_nbformat": 2,
  "file_extension": ".py",
  "mimetype": "text/x-python",
  "name": "python",
  "npconvert_exporter": "python",
  "pygments_lexer": "ipython3",
  "version": 3,
  "kernelspec": {
   "name": "python37464bitvenvvenve9c1ae90b66648e1b1faed220c3b4031",
   "display_name": "Python 3.7.4 64-bit ('venv': venv)"
  }
 },
 "cells": [
  {
   "cell_type": "code",
   "execution_count": 2,
   "metadata": {},
   "outputs": [],
   "source": [
    "import pandas as pd\n",
    "import numpy as np\n",
    "import requests\n",
    "import json\n",
    "import datetime"
   ]
  },
  {
   "cell_type": "markdown",
   "metadata": {},
   "source": [
    "Earliest travel times for the orange line (From Oak Grove(70036) to Malden Center (70034)) is 04 May 2016 @ 5:00 am"
   ]
  },
  {
   "cell_type": "code",
   "execution_count": 3,
   "metadata": {},
   "outputs": [],
   "source": [
    "api_key = 'IAZkS7mDd0SPwAZUAuHPLQ'\n",
    "realtime_url = 'http://realtime.mbta.com/developer/api/v2.1/'"
   ]
  },
  {
   "cell_type": "code",
   "execution_count": 17,
   "metadata": {},
   "outputs": [
    {
     "data": {
      "text/plain": "'\\n1. Events URL = realtime_url + p_query + \"api_key=\" + api_key + \"&format=json& + \"&from_datetime=\" + from_datetime + \"&to_datetime=\" + to_datetime + &stop=\" + stop + \"&route=\" + route\\n    Output: \"http://realtime.mbta.com/developer/api/v2.1/events?api_key=wX9NwuHnZU2ToO7GmGR9uw&format=json&from_datetime=1537812000&to_datetime=1537819200&stop=70027&route=Orange\"\\n\\n2. Travel Time URL: realtime_url + p_query + \"api_key=\" + api_key + \"&format=json\" + \"&from_stop=\" + from_stop + \"&to_stop=\" + to_stop + \"&from_datetime=\" + from_datetime + \"&to_datetime=\" + to_datetime \\n    Output = http://realtime.mbta.com/developer/api/v2.1/traveltimes?api_key=wX9NwuHnZU2ToO7GmGR9uw&format=json&from_stop=70172&to_stop=70182&from_datetime=1457454139&to_datetime=1457455262\\n\\n3. Dwell Times URL: realtime_url + p_query + \"api_key=\" + api_key + \"&format=json\" + \"&stop=\" + stop + \"&from_datetime=\" + from_datetime + \"&to_datetime=\" + to_datetime \\n    Output: http://realtime.mbta.com/developer/api/v2.1/dwells?api_key=wX9NwuHnZU2ToO7GmGR9uw&format=json&stop=70076&from_datetime=1457454139&to_datetime=1457454749\\n\\n4. Headway URL: realtime_url + p_query + \"api_key=\" + api_key + \"&format=json\" + \"&stop=\" + stop + \"&from_datetime=\" + from_datetime + \"&to_datetime=\" + to_datetime\\n    Output: http://realtime.mbta.com/developer/api/v2.1/headways?api_key=wX9NwuHnZU2ToO7GmGR9uw&format=json&stop=70076&from_datetime=1457455186&to_datetime=1457456986\\n'"
     },
     "execution_count": 17,
     "metadata": {},
     "output_type": "execute_result"
    }
   ],
   "source": [
    "# Define parameters for the query URL\n",
    "\n",
    "# Can choose (traveltimes, dwelltimes, headways, dailymetrics, currentmetrics, dailypredictionmetrics, predictionmetrics, events, pastalerts)\n",
    "p_query = 'traveltimes?'\n",
    "from_stop = '70036'\n",
    "to_stop = '70034'\n",
    "route = 'Orange' # Optional\n",
    "from_datetime = str(round(datetime.datetime(2016,5,4,5,30,00).timestamp()))\n",
    "to_datetime = str(round(datetime.datetime(2016,5,4,7,30,00).timestamp()))\n",
    "stop = '' \n",
    "\n",
    "\"\"\"\n",
    "1. Events URL = \n",
    "    Output: \"http://realtime.mbta.com/developer/api/v2.1/events?api_key=wX9NwuHnZU2ToO7GmGR9uw&format=json&from_datetime=1537812000&to_datetime=1537819200&stop=70027&route=Orange\"\n",
    "\n",
    "2. Travel Time URL: f'{realtime_url}{p_query}api_key={api_key}&format=json&from_stop={from_stop}&to_stop={to_stop}&from_datetime={from_datetime}&to_datetime={to_datetime}'\n",
    "\n",
    "    Output = http://realtime.mbta.com/developer/api/v2.1/traveltimes?api_key=wX9NwuHnZU2ToO7GmGR9uw&format=json&from_stop=70172&to_stop=70182&from_datetime=1457454139&to_datetime=1457455262\n",
    "\n",
    "3. Dwell Times URL:\n",
    "    Output: http://realtime.mbta.com/developer/api/v2.1/dwells?api_key=wX9NwuHnZU2ToO7GmGR9uw&format=json&stop=70076&from_datetime=1457454139&to_datetime=1457454749\n",
    "\n",
    "4. Headway URL: \n",
    "    Output: http://realtime.mbta.com/developer/api/v2.1/headways?api_key=wX9NwuHnZU2ToO7GmGR9uw&format=json&stop=70076&from_datetime=1457455186&to_datetime=1457456986\n",
    "\"\"\""
   ]
  },
  {
   "cell_type": "markdown",
   "metadata": {},
   "source": [
    "### Determining stop_id's for Oak Grove and Malden Center"
   ]
  },
  {
   "cell_type": "code",
   "execution_count": 22,
   "metadata": {},
   "outputs": [],
   "source": [
    "df_stops = pd.read_csv('stops.txt')"
   ]
  },
  {
   "cell_type": "code",
   "execution_count": 36,
   "metadata": {},
   "outputs": [
    {
     "data": {
      "text/html": "<div>\n<style scoped>\n    .dataframe tbody tr th:only-of-type {\n        vertical-align: middle;\n    }\n\n    .dataframe tbody tr th {\n        vertical-align: top;\n    }\n\n    .dataframe thead th {\n        text-align: right;\n    }\n</style>\n<table border=\"1\" class=\"dataframe\">\n  <thead>\n    <tr style=\"text-align: right;\">\n      <th></th>\n      <th>stop_id</th>\n      <th>stop_code</th>\n      <th>stop_name</th>\n      <th>stop_desc</th>\n      <th>platform_code</th>\n      <th>platform_name</th>\n      <th>stop_lat</th>\n      <th>stop_lon</th>\n      <th>zone_id</th>\n      <th>stop_address</th>\n      <th>stop_url</th>\n      <th>level_id</th>\n      <th>location_type</th>\n      <th>parent_station</th>\n      <th>wheelchair_boarding</th>\n      <th>municipality</th>\n      <th>on_street</th>\n      <th>at_street</th>\n      <th>vehicle_type</th>\n    </tr>\n  </thead>\n  <tbody>\n    <tr>\n      <th>0</th>\n      <td>1</td>\n      <td>1.0</td>\n      <td>Washington St opp Ruggles St</td>\n      <td>NaN</td>\n      <td>NaN</td>\n      <td>NaN</td>\n      <td>42.330957</td>\n      <td>-71.082754</td>\n      <td>ExpressBus-Downtown</td>\n      <td>NaN</td>\n      <td>https://www.mbta.com/stops/1</td>\n      <td>NaN</td>\n      <td>0</td>\n      <td>NaN</td>\n      <td>1</td>\n      <td>Boston</td>\n      <td>Washington Street</td>\n      <td>Ruggles Street</td>\n      <td>3.0</td>\n    </tr>\n    <tr>\n      <th>1</th>\n      <td>10</td>\n      <td>10.0</td>\n      <td>Theo Glynn Way @ Newmarket Sq</td>\n      <td>NaN</td>\n      <td>NaN</td>\n      <td>NaN</td>\n      <td>42.330555</td>\n      <td>-71.068787</td>\n      <td>NaN</td>\n      <td>NaN</td>\n      <td>https://www.mbta.com/stops/10</td>\n      <td>NaN</td>\n      <td>0</td>\n      <td>NaN</td>\n      <td>1</td>\n      <td>Boston</td>\n      <td>Theodore Glynn Way</td>\n      <td>Newmarket Square</td>\n      <td>3.0</td>\n    </tr>\n    <tr>\n      <th>2</th>\n      <td>10000</td>\n      <td>10000.0</td>\n      <td>Tremont St opp Temple Pl</td>\n      <td>NaN</td>\n      <td>NaN</td>\n      <td>NaN</td>\n      <td>42.355692</td>\n      <td>-71.062911</td>\n      <td>NaN</td>\n      <td>NaN</td>\n      <td>https://www.mbta.com/stops/10000</td>\n      <td>NaN</td>\n      <td>0</td>\n      <td>NaN</td>\n      <td>1</td>\n      <td>Boston</td>\n      <td>Tremont Street</td>\n      <td>Temple Place</td>\n      <td>3.0</td>\n    </tr>\n    <tr>\n      <th>3</th>\n      <td>10003</td>\n      <td>10003.0</td>\n      <td>Albany St opp Randall St</td>\n      <td>NaN</td>\n      <td>NaN</td>\n      <td>NaN</td>\n      <td>42.331591</td>\n      <td>-71.076237</td>\n      <td>NaN</td>\n      <td>NaN</td>\n      <td>https://www.mbta.com/stops/10003</td>\n      <td>NaN</td>\n      <td>0</td>\n      <td>NaN</td>\n      <td>0</td>\n      <td>Boston</td>\n      <td>Albany Street</td>\n      <td>Randall Street</td>\n      <td>3.0</td>\n    </tr>\n    <tr>\n      <th>4</th>\n      <td>10005</td>\n      <td>10005.0</td>\n      <td>Albany St opp E Concord St</td>\n      <td>NaN</td>\n      <td>NaN</td>\n      <td>NaN</td>\n      <td>42.335017</td>\n      <td>-71.071280</td>\n      <td>NaN</td>\n      <td>NaN</td>\n      <td>https://www.mbta.com/stops/10005</td>\n      <td>NaN</td>\n      <td>0</td>\n      <td>NaN</td>\n      <td>1</td>\n      <td>Boston</td>\n      <td>Albany Street</td>\n      <td>East Concord Street</td>\n      <td>3.0</td>\n    </tr>\n  </tbody>\n</table>\n</div>",
      "text/plain": "  stop_id  stop_code                      stop_name stop_desc platform_code  \\\n0       1        1.0   Washington St opp Ruggles St       NaN           NaN   \n1      10       10.0  Theo Glynn Way @ Newmarket Sq       NaN           NaN   \n2   10000    10000.0       Tremont St opp Temple Pl       NaN           NaN   \n3   10003    10003.0       Albany St opp Randall St       NaN           NaN   \n4   10005    10005.0     Albany St opp E Concord St       NaN           NaN   \n\n  platform_name   stop_lat   stop_lon              zone_id stop_address  \\\n0           NaN  42.330957 -71.082754  ExpressBus-Downtown          NaN   \n1           NaN  42.330555 -71.068787                  NaN          NaN   \n2           NaN  42.355692 -71.062911                  NaN          NaN   \n3           NaN  42.331591 -71.076237                  NaN          NaN   \n4           NaN  42.335017 -71.071280                  NaN          NaN   \n\n                           stop_url level_id  location_type parent_station  \\\n0      https://www.mbta.com/stops/1      NaN              0            NaN   \n1     https://www.mbta.com/stops/10      NaN              0            NaN   \n2  https://www.mbta.com/stops/10000      NaN              0            NaN   \n3  https://www.mbta.com/stops/10003      NaN              0            NaN   \n4  https://www.mbta.com/stops/10005      NaN              0            NaN   \n\n   wheelchair_boarding municipality           on_street            at_street  \\\n0                    1       Boston   Washington Street       Ruggles Street   \n1                    1       Boston  Theodore Glynn Way     Newmarket Square   \n2                    1       Boston      Tremont Street         Temple Place   \n3                    0       Boston       Albany Street       Randall Street   \n4                    1       Boston       Albany Street  East Concord Street   \n\n   vehicle_type  \n0           3.0  \n1           3.0  \n2           3.0  \n3           3.0  \n4           3.0  "
     },
     "execution_count": 36,
     "metadata": {},
     "output_type": "execute_result"
    }
   ],
   "source": [
    "df_stops.head()"
   ]
  },
  {
   "cell_type": "code",
   "execution_count": 42,
   "metadata": {},
   "outputs": [],
   "source": [
    "df_stops_orange = df_stops[(df_stops['stop_name'].str.contains('Malden Center')) | (df_stops['stop_name'].str.contains('Oak Grove'))]"
   ]
  },
  {
   "cell_type": "code",
   "execution_count": 52,
   "metadata": {},
   "outputs": [],
   "source": [
    "def inter(x):\n",
    "    try:\n",
    "        return int(x)\n",
    "    except:\n",
    "        return 0"
   ]
  },
  {
   "cell_type": "code",
   "execution_count": 59,
   "metadata": {},
   "outputs": [],
   "source": [
    "df_stops_orange['stop_id'] = df_stops_orange['stop_id'].apply(inter)"
   ]
  },
  {
   "cell_type": "code",
   "execution_count": 61,
   "metadata": {},
   "outputs": [],
   "source": [
    "df_stops_orange_filter = df_stops_orange[df_stops_orange['stop_id'] > 0]"
   ]
  },
  {
   "cell_type": "code",
   "execution_count": 140,
   "metadata": {},
   "outputs": [
    {
     "data": {
      "text/html": "<div>\n<style scoped>\n    .dataframe tbody tr th:only-of-type {\n        vertical-align: middle;\n    }\n\n    .dataframe tbody tr th {\n        vertical-align: top;\n    }\n\n    .dataframe thead th {\n        text-align: right;\n    }\n</style>\n<table border=\"1\" class=\"dataframe\">\n  <thead>\n    <tr style=\"text-align: right;\">\n      <th></th>\n      <th>stop_id</th>\n      <th>stop_code</th>\n      <th>stop_name</th>\n      <th>stop_desc</th>\n      <th>platform_code</th>\n      <th>platform_name</th>\n      <th>stop_lat</th>\n      <th>stop_lon</th>\n      <th>zone_id</th>\n      <th>stop_address</th>\n      <th>stop_url</th>\n      <th>level_id</th>\n      <th>location_type</th>\n      <th>parent_station</th>\n      <th>wheelchair_boarding</th>\n      <th>municipality</th>\n      <th>on_street</th>\n      <th>at_street</th>\n      <th>vehicle_type</th>\n    </tr>\n  </thead>\n  <tbody>\n    <tr>\n      <th>5011</th>\n      <td>5991</td>\n      <td>5991.0</td>\n      <td>Washington St opp Oak Grove Sta</td>\n      <td>NaN</td>\n      <td>NaN</td>\n      <td>NaN</td>\n      <td>42.436927</td>\n      <td>-71.071292</td>\n      <td>NaN</td>\n      <td>NaN</td>\n      <td>https://www.mbta.com/stops/5991</td>\n      <td>NaN</td>\n      <td>0</td>\n      <td>NaN</td>\n      <td>1</td>\n      <td>Malden</td>\n      <td>Washington Street</td>\n      <td>NaN</td>\n      <td>3.0</td>\n    </tr>\n    <tr>\n      <th>7339</th>\n      <td>9326</td>\n      <td>9326.0</td>\n      <td>Washington St @ Oak Grove Station</td>\n      <td>NaN</td>\n      <td>NaN</td>\n      <td>NaN</td>\n      <td>42.436901</td>\n      <td>-71.071145</td>\n      <td>NaN</td>\n      <td>NaN</td>\n      <td>https://www.mbta.com/stops/9326</td>\n      <td>NaN</td>\n      <td>0</td>\n      <td>NaN</td>\n      <td>1</td>\n      <td>Malden</td>\n      <td>Washington Street</td>\n      <td>NaN</td>\n      <td>3.0</td>\n    </tr>\n    <tr>\n      <th>8921</th>\n      <td>5072</td>\n      <td>5072.0</td>\n      <td>Malden Center</td>\n      <td>Malden Center - West Busway</td>\n      <td>NaN</td>\n      <td>West Busway</td>\n      <td>42.426729</td>\n      <td>-71.074659</td>\n      <td>NaN</td>\n      <td>NaN</td>\n      <td>https://www.mbta.com/stops/place-mlmnl</td>\n      <td>level_0.5_ground</td>\n      <td>0</td>\n      <td>place-mlmnl</td>\n      <td>0</td>\n      <td>Malden</td>\n      <td>NaN</td>\n      <td>NaN</td>\n      <td>3.0</td>\n    </tr>\n    <tr>\n      <th>8922</th>\n      <td>5327</td>\n      <td>5327.0</td>\n      <td>Malden Center</td>\n      <td>Malden Center - East Busway Platform 2</td>\n      <td>2</td>\n      <td>East Busway Platform 2</td>\n      <td>42.426507</td>\n      <td>-71.073919</td>\n      <td>NaN</td>\n      <td>NaN</td>\n      <td>https://www.mbta.com/stops/place-mlmnl</td>\n      <td>level_ground</td>\n      <td>0</td>\n      <td>place-mlmnl</td>\n      <td>0</td>\n      <td>Malden</td>\n      <td>Busway</td>\n      <td>NaN</td>\n      <td>3.0</td>\n    </tr>\n    <tr>\n      <th>8923</th>\n      <td>53270</td>\n      <td>53270.0</td>\n      <td>Malden Center</td>\n      <td>Malden Center - East Busway Platform 1</td>\n      <td>1</td>\n      <td>East Busway Platform 1</td>\n      <td>42.426565</td>\n      <td>-71.074107</td>\n      <td>NaN</td>\n      <td>NaN</td>\n      <td>https://www.mbta.com/stops/place-mlmnl</td>\n      <td>level_ground</td>\n      <td>0</td>\n      <td>place-mlmnl</td>\n      <td>0</td>\n      <td>Malden</td>\n      <td>Busway</td>\n      <td>NaN</td>\n      <td>3.0</td>\n    </tr>\n  </tbody>\n</table>\n</div>",
      "text/plain": "      stop_id  stop_code                          stop_name  \\\n5011     5991     5991.0    Washington St opp Oak Grove Sta   \n7339     9326     9326.0  Washington St @ Oak Grove Station   \n8921     5072     5072.0                      Malden Center   \n8922     5327     5327.0                      Malden Center   \n8923    53270    53270.0                      Malden Center   \n\n                                   stop_desc platform_code  \\\n5011                                     NaN           NaN   \n7339                                     NaN           NaN   \n8921             Malden Center - West Busway           NaN   \n8922  Malden Center - East Busway Platform 2             2   \n8923  Malden Center - East Busway Platform 1             1   \n\n               platform_name   stop_lat   stop_lon zone_id stop_address  \\\n5011                     NaN  42.436927 -71.071292     NaN          NaN   \n7339                     NaN  42.436901 -71.071145     NaN          NaN   \n8921             West Busway  42.426729 -71.074659     NaN          NaN   \n8922  East Busway Platform 2  42.426507 -71.073919     NaN          NaN   \n8923  East Busway Platform 1  42.426565 -71.074107     NaN          NaN   \n\n                                    stop_url          level_id  location_type  \\\n5011         https://www.mbta.com/stops/5991               NaN              0   \n7339         https://www.mbta.com/stops/9326               NaN              0   \n8921  https://www.mbta.com/stops/place-mlmnl  level_0.5_ground              0   \n8922  https://www.mbta.com/stops/place-mlmnl      level_ground              0   \n8923  https://www.mbta.com/stops/place-mlmnl      level_ground              0   \n\n     parent_station  wheelchair_boarding municipality          on_street  \\\n5011            NaN                    1       Malden  Washington Street   \n7339            NaN                    1       Malden  Washington Street   \n8921    place-mlmnl                    0       Malden                NaN   \n8922    place-mlmnl                    0       Malden             Busway   \n8923    place-mlmnl                    0       Malden             Busway   \n\n     at_street  vehicle_type  \n5011       NaN           3.0  \n7339       NaN           3.0  \n8921       NaN           3.0  \n8922       NaN           3.0  \n8923       NaN           3.0  "
     },
     "execution_count": 140,
     "metadata": {},
     "output_type": "execute_result"
    }
   ],
   "source": [
    "df_stops_orange_filter.head()"
   ]
  },
  {
   "cell_type": "markdown",
   "metadata": {},
   "source": [
    "### Travel Times from Oak Grove to Malden Center"
   ]
  },
  {
   "cell_type": "code",
   "execution_count": 86,
   "metadata": {},
   "outputs": [],
   "source": [
    "df_travel_times = pd.DataFrame()\n",
    "\n",
    "for date in pd.date_range(f'2016-5-1 05:30:00', f'2020-2-1', freq='B', tz= 'US/Eastern'):\n",
    "\n",
    "    from_datetime = round(date.timestamp())\n",
    "    to_datetime = round((date + pd.Timedelta(2, unit='h')).timestamp())\n",
    "\n",
    "    url = f'{realtime_url}{p_query}api_key={api_key}&format=json&from_stop={from_stop}&to_stop={to_stop}&from_datetime={from_datetime}&to_datetime={to_datetime}'\n",
    " \n",
    "    json_response = requests.get(url).json()['travel_times']\n",
    "\n",
    "    if df_travel_times.empty:\n",
    "\n",
    "        if json_response != []:\n",
    "            df_travel_times = pd.DataFrame.from_dict(json_response)\n",
    "    else:\n",
    "        if json_response != []:\n",
    "            travel = pd.DataFrame.from_dict(json_response)\n",
    "            df_travel_times = pd.concat([df_travel_times, travel])"
   ]
  },
  {
   "cell_type": "code",
   "execution_count": 87,
   "metadata": {},
   "outputs": [],
   "source": [
    "with open('mbta_travel_times.csv', 'w', newline='') as mbta_file:\n",
    "    df_travel_times.to_csv(mbta_file, index=False)"
   ]
  },
  {
   "cell_type": "code",
   "execution_count": 88,
   "metadata": {},
   "outputs": [
    {
     "data": {
      "text/plain": "(12762, 8)"
     },
     "execution_count": 88,
     "metadata": {},
     "output_type": "execute_result"
    }
   ],
   "source": [
    "df_travel_times.shape"
   ]
  },
  {
   "cell_type": "code",
   "execution_count": 72,
   "metadata": {},
   "outputs": [],
   "source": [
    "import matplotlib.pyplot as plt\n",
    "import seaborn as sns"
   ]
  },
  {
   "cell_type": "code",
   "execution_count": 90,
   "metadata": {},
   "outputs": [
    {
     "data": {
      "text/html": "<div>\n<style scoped>\n    .dataframe tbody tr th:only-of-type {\n        vertical-align: middle;\n    }\n\n    .dataframe tbody tr th {\n        vertical-align: top;\n    }\n\n    .dataframe thead th {\n        text-align: right;\n    }\n</style>\n<table border=\"1\" class=\"dataframe\">\n  <thead>\n    <tr style=\"text-align: right;\">\n      <th></th>\n      <th>route_id</th>\n      <th>direction</th>\n      <th>dep_dt</th>\n      <th>arr_dt</th>\n      <th>travel_time_sec</th>\n      <th>benchmark_travel_time_sec</th>\n      <th>threshold_flag_1</th>\n      <th>threshold_flag_2</th>\n    </tr>\n  </thead>\n  <tbody>\n    <tr>\n      <th>count</th>\n      <td>12762</td>\n      <td>12762</td>\n      <td>12762</td>\n      <td>12762</td>\n      <td>12762</td>\n      <td>12762</td>\n      <td>8</td>\n      <td>2</td>\n    </tr>\n    <tr>\n      <th>unique</th>\n      <td>1</td>\n      <td>1</td>\n      <td>12762</td>\n      <td>12762</td>\n      <td>191</td>\n      <td>2</td>\n      <td>1</td>\n      <td>1</td>\n    </tr>\n    <tr>\n      <th>top</th>\n      <td>Orange</td>\n      <td>0</td>\n      <td>1564484766</td>\n      <td>1472465207</td>\n      <td>66</td>\n      <td>120</td>\n      <td>threshold_id_04</td>\n      <td>threshold_id_05</td>\n    </tr>\n    <tr>\n      <th>freq</th>\n      <td>12762</td>\n      <td>12762</td>\n      <td>1</td>\n      <td>1</td>\n      <td>668</td>\n      <td>10583</td>\n      <td>8</td>\n      <td>2</td>\n    </tr>\n  </tbody>\n</table>\n</div>",
      "text/plain": "       route_id direction      dep_dt      arr_dt travel_time_sec  \\\ncount     12762     12762       12762       12762           12762   \nunique        1         1       12762       12762             191   \ntop      Orange         0  1564484766  1472465207              66   \nfreq      12762     12762           1           1             668   \n\n       benchmark_travel_time_sec threshold_flag_1 threshold_flag_2  \ncount                      12762                8                2  \nunique                         2                1                1  \ntop                          120  threshold_id_04  threshold_id_05  \nfreq                       10583                8                2  "
     },
     "execution_count": 90,
     "metadata": {},
     "output_type": "execute_result"
    }
   ],
   "source": [
    "df_travel_times.describe()"
   ]
  },
  {
   "cell_type": "code",
   "execution_count": 94,
   "metadata": {},
   "outputs": [
    {
     "data": {
      "text/plain": "route_id                     object\ndirection                    object\ndep_dt                       object\narr_dt                       object\ntravel_time_sec              object\nbenchmark_travel_time_sec    object\nthreshold_flag_1             object\nthreshold_flag_2             object\ndtype: object"
     },
     "execution_count": 94,
     "metadata": {},
     "output_type": "execute_result"
    }
   ],
   "source": [
    "df_travel_times.dtypes"
   ]
  },
  {
   "cell_type": "code",
   "execution_count": 107,
   "metadata": {},
   "outputs": [],
   "source": [
    "def convert_column(df, col, dtype):\n",
    "    for item in col:\n",
    "        df[item] = df[item].astype(dtype) \n",
    "\n",
    "    return df"
   ]
  },
  {
   "cell_type": "code",
   "execution_count": 159,
   "metadata": {},
   "outputs": [],
   "source": [
    "df_travel = convert_column(df_travel_times, ['travel_time_sec', 'benchmark_travel_time_sec'], 'int')"
   ]
  },
  {
   "cell_type": "code",
   "execution_count": 114,
   "metadata": {},
   "outputs": [
    {
     "data": {
      "text/plain": "route_id                     object\ndirection                    object\ndep_dt                       object\narr_dt                       object\ntravel_time_sec               int32\nbenchmark_travel_time_sec     int32\nthreshold_flag_1             object\nthreshold_flag_2             object\ndtype: object"
     },
     "execution_count": 114,
     "metadata": {},
     "output_type": "execute_result"
    }
   ],
   "source": [
    "df_travel_times.dtypes"
   ]
  },
  {
   "cell_type": "code",
   "execution_count": 157,
   "metadata": {},
   "outputs": [],
   "source": [
    "df_travel = pd.read_csv('mbta_travel_times.csv', parse_dates=[0])"
   ]
  },
  {
   "cell_type": "code",
   "execution_count": 158,
   "metadata": {},
   "outputs": [
    {
     "data": {
      "text/html": "<div>\n<style scoped>\n    .dataframe tbody tr th:only-of-type {\n        vertical-align: middle;\n    }\n\n    .dataframe tbody tr th {\n        vertical-align: top;\n    }\n\n    .dataframe thead th {\n        text-align: right;\n    }\n</style>\n<table border=\"1\" class=\"dataframe\">\n  <thead>\n    <tr style=\"text-align: right;\">\n      <th></th>\n      <th>route_id</th>\n      <th>direction</th>\n      <th>dep_dt</th>\n      <th>arr_dt</th>\n      <th>travel_time_sec</th>\n      <th>benchmark_travel_time_sec</th>\n      <th>threshold_flag_1</th>\n      <th>threshold_flag_2</th>\n    </tr>\n  </thead>\n  <tbody>\n    <tr>\n      <th>0</th>\n      <td>Orange</td>\n      <td>0</td>\n      <td>1462356635</td>\n      <td>1462356687</td>\n      <td>52</td>\n      <td>120</td>\n      <td>NaN</td>\n      <td>NaN</td>\n    </tr>\n    <tr>\n      <th>1</th>\n      <td>Orange</td>\n      <td>0</td>\n      <td>1462357610</td>\n      <td>1462357724</td>\n      <td>114</td>\n      <td>120</td>\n      <td>NaN</td>\n      <td>NaN</td>\n    </tr>\n    <tr>\n      <th>2</th>\n      <td>Orange</td>\n      <td>0</td>\n      <td>1462358518</td>\n      <td>1462358556</td>\n      <td>38</td>\n      <td>120</td>\n      <td>NaN</td>\n      <td>NaN</td>\n    </tr>\n    <tr>\n      <th>3</th>\n      <td>Orange</td>\n      <td>0</td>\n      <td>1462359406</td>\n      <td>1462359506</td>\n      <td>100</td>\n      <td>120</td>\n      <td>NaN</td>\n      <td>NaN</td>\n    </tr>\n    <tr>\n      <th>4</th>\n      <td>Orange</td>\n      <td>0</td>\n      <td>1462359808</td>\n      <td>1462359908</td>\n      <td>100</td>\n      <td>120</td>\n      <td>NaN</td>\n      <td>NaN</td>\n    </tr>\n  </tbody>\n</table>\n</div>",
      "text/plain": "  route_id  direction      dep_dt      arr_dt  travel_time_sec  \\\n0   Orange          0  1462356635  1462356687               52   \n1   Orange          0  1462357610  1462357724              114   \n2   Orange          0  1462358518  1462358556               38   \n3   Orange          0  1462359406  1462359506              100   \n4   Orange          0  1462359808  1462359908              100   \n\n   benchmark_travel_time_sec threshold_flag_1 threshold_flag_2  \n0                        120              NaN              NaN  \n1                        120              NaN              NaN  \n2                        120              NaN              NaN  \n3                        120              NaN              NaN  \n4                        120              NaN              NaN  "
     },
     "execution_count": 158,
     "metadata": {},
     "output_type": "execute_result"
    }
   ],
   "source": [
    "df_travel.head()"
   ]
  },
  {
   "cell_type": "code",
   "execution_count": 154,
   "metadata": {},
   "outputs": [],
   "source": [
    "def convert_to_dt(df, col):\n",
    "    for item in col:\n",
    "        df[item] = pd.to_datetime(df[item].astype('float'), unit='s').dt.tz_localize('UTC').dt.tz_convert('US/Eastern')\n",
    "\n",
    "    return df"
   ]
  },
  {
   "cell_type": "code",
   "execution_count": 162,
   "metadata": {},
   "outputs": [],
   "source": [
    "df_travel = convert_to_dt(df_travel, ['dep_dt', 'arr_dt'])"
   ]
  },
  {
   "cell_type": "code",
   "execution_count": 163,
   "metadata": {},
   "outputs": [
    {
     "data": {
      "text/html": "<div>\n<style scoped>\n    .dataframe tbody tr th:only-of-type {\n        vertical-align: middle;\n    }\n\n    .dataframe tbody tr th {\n        vertical-align: top;\n    }\n\n    .dataframe thead th {\n        text-align: right;\n    }\n</style>\n<table border=\"1\" class=\"dataframe\">\n  <thead>\n    <tr style=\"text-align: right;\">\n      <th></th>\n      <th>route_id</th>\n      <th>direction</th>\n      <th>dep_dt</th>\n      <th>arr_dt</th>\n      <th>travel_time_sec</th>\n      <th>benchmark_travel_time_sec</th>\n      <th>threshold_flag_1</th>\n      <th>threshold_flag_2</th>\n    </tr>\n  </thead>\n  <tbody>\n    <tr>\n      <th>0</th>\n      <td>Orange</td>\n      <td>0</td>\n      <td>2016-05-04 06:10:35-04:00</td>\n      <td>2016-05-04 06:11:27-04:00</td>\n      <td>52</td>\n      <td>120</td>\n      <td>NaN</td>\n      <td>NaN</td>\n    </tr>\n    <tr>\n      <th>1</th>\n      <td>Orange</td>\n      <td>0</td>\n      <td>2016-05-04 06:26:50-04:00</td>\n      <td>2016-05-04 06:28:44-04:00</td>\n      <td>114</td>\n      <td>120</td>\n      <td>NaN</td>\n      <td>NaN</td>\n    </tr>\n    <tr>\n      <th>2</th>\n      <td>Orange</td>\n      <td>0</td>\n      <td>2016-05-04 06:41:58-04:00</td>\n      <td>2016-05-04 06:42:36-04:00</td>\n      <td>38</td>\n      <td>120</td>\n      <td>NaN</td>\n      <td>NaN</td>\n    </tr>\n    <tr>\n      <th>3</th>\n      <td>Orange</td>\n      <td>0</td>\n      <td>2016-05-04 06:56:46-04:00</td>\n      <td>2016-05-04 06:58:26-04:00</td>\n      <td>100</td>\n      <td>120</td>\n      <td>NaN</td>\n      <td>NaN</td>\n    </tr>\n    <tr>\n      <th>4</th>\n      <td>Orange</td>\n      <td>0</td>\n      <td>2016-05-04 07:03:28-04:00</td>\n      <td>2016-05-04 07:05:08-04:00</td>\n      <td>100</td>\n      <td>120</td>\n      <td>NaN</td>\n      <td>NaN</td>\n    </tr>\n  </tbody>\n</table>\n</div>",
      "text/plain": "  route_id direction                    dep_dt                    arr_dt  \\\n0   Orange         0 2016-05-04 06:10:35-04:00 2016-05-04 06:11:27-04:00   \n1   Orange         0 2016-05-04 06:26:50-04:00 2016-05-04 06:28:44-04:00   \n2   Orange         0 2016-05-04 06:41:58-04:00 2016-05-04 06:42:36-04:00   \n3   Orange         0 2016-05-04 06:56:46-04:00 2016-05-04 06:58:26-04:00   \n4   Orange         0 2016-05-04 07:03:28-04:00 2016-05-04 07:05:08-04:00   \n\n   travel_time_sec  benchmark_travel_time_sec threshold_flag_1  \\\n0               52                        120              NaN   \n1              114                        120              NaN   \n2               38                        120              NaN   \n3              100                        120              NaN   \n4              100                        120              NaN   \n\n  threshold_flag_2  \n0              NaN  \n1              NaN  \n2              NaN  \n3              NaN  \n4              NaN  "
     },
     "execution_count": 163,
     "metadata": {},
     "output_type": "execute_result"
    }
   ],
   "source": [
    "df_travel.head()"
   ]
  },
  {
   "cell_type": "code",
   "execution_count": 165,
   "metadata": {},
   "outputs": [
    {
     "data": {
      "text/plain": "route_id                                         object\ndirection                                        object\ndep_dt                       datetime64[ns, US/Eastern]\narr_dt                       datetime64[ns, US/Eastern]\ntravel_time_sec                                   int32\nbenchmark_travel_time_sec                         int32\nthreshold_flag_1                                 object\nthreshold_flag_2                                 object\ndtype: object"
     },
     "execution_count": 165,
     "metadata": {},
     "output_type": "execute_result"
    }
   ],
   "source": [
    "df_travel.dtypes"
   ]
  },
  {
   "cell_type": "code",
   "execution_count": 167,
   "metadata": {},
   "outputs": [
    {
     "data": {
      "text/html": "<div>\n<style scoped>\n    .dataframe tbody tr th:only-of-type {\n        vertical-align: middle;\n    }\n\n    .dataframe tbody tr th {\n        vertical-align: top;\n    }\n\n    .dataframe thead th {\n        text-align: right;\n    }\n</style>\n<table border=\"1\" class=\"dataframe\">\n  <thead>\n    <tr style=\"text-align: right;\">\n      <th></th>\n      <th>travel_time_sec</th>\n      <th>benchmark_travel_time_sec</th>\n    </tr>\n  </thead>\n  <tbody>\n    <tr>\n      <th>count</th>\n      <td>12762.000000</td>\n      <td>12762.000000</td>\n    </tr>\n    <tr>\n      <th>mean</th>\n      <td>87.171525</td>\n      <td>109.755524</td>\n    </tr>\n    <tr>\n      <th>std</th>\n      <td>24.026733</td>\n      <td>22.577848</td>\n    </tr>\n    <tr>\n      <th>min</th>\n      <td>0.000000</td>\n      <td>60.000000</td>\n    </tr>\n    <tr>\n      <th>25%</th>\n      <td>67.000000</td>\n      <td>120.000000</td>\n    </tr>\n    <tr>\n      <th>50%</th>\n      <td>88.000000</td>\n      <td>120.000000</td>\n    </tr>\n    <tr>\n      <th>75%</th>\n      <td>99.000000</td>\n      <td>120.000000</td>\n    </tr>\n    <tr>\n      <th>max</th>\n      <td>660.000000</td>\n      <td>120.000000</td>\n    </tr>\n  </tbody>\n</table>\n</div>",
      "text/plain": "       travel_time_sec  benchmark_travel_time_sec\ncount     12762.000000               12762.000000\nmean         87.171525                 109.755524\nstd          24.026733                  22.577848\nmin           0.000000                  60.000000\n25%          67.000000                 120.000000\n50%          88.000000                 120.000000\n75%          99.000000                 120.000000\nmax         660.000000                 120.000000"
     },
     "execution_count": 167,
     "metadata": {},
     "output_type": "execute_result"
    }
   ],
   "source": [
    "df_travel.describe()"
   ]
  },
  {
   "cell_type": "code",
   "execution_count": 173,
   "metadata": {},
   "outputs": [
    {
     "data": {
      "image/png": "[encoded data removed]",
      "image/svg+xml": "<?xml version=\"1.0\" encoding=\"utf-8\" standalone=\"no\"?>\r\n<!DOCTYPE svg PUBLIC \"-//W3C//DTD SVG 1.1//EN\"\r\n  \"http://www.w3.org/Graphics/SVG/1.1/DTD/svg11.dtd\">\r\n<!-- Created with matplotlib (https://matplotlib.org/) -->\r\n<svg height=\"265.178887pt\" version=\"1.1\" viewBox=\"0 0 381.65 265.178887\" width=\"381.65pt\" xmlns=\"http://www.w3.org/2000/svg\" xmlns:xlink=\"http://www.w3.org/1999/xlink\">\r\n <defs>\r\n  <style type=\"text/css\">\r\n*{stroke-linecap:butt;stroke-linejoin:round;}\r\n  </style>\r\n </defs>\r\n <g id=\"figure_1\">\r\n  <g id=\"patch_1\">\r\n   <path d=\"M -0 265.178887 \r\nL 381.65 265.178887 \r\nL 381.65 0 \r\nL -0 0 \r\nz\r\n\" style=\"fill:none;\"/>\r\n  </g>\r\n  <g id=\"axes_1\">\r\n   <g id=\"patch_2\">\r\n    <path d=\"M 39.65 227.344512 \r\nL 374.45 227.344512 \r\nL 374.45 9.904512 \r\nL 39.65 9.904512 \r\nz\r\n\" style=\"fill:#ffffff;\"/>\r\n   </g>\r\n   <g id=\"patch_3\">\r\n    <path clip-path=\"url(#pf9a590b2b8)\" d=\"M 54.868182 227.344512 \r\nL 57.911818 227.344512 \r\nL 57.911818 227.084897 \r\nL 54.868182 227.084897 \r\nz\r\n\" style=\"fill:#1f77b4;opacity:0.4;\"/>\r\n   </g>\r\n   <g id=\"patch_4\">\r\n    <path clip-path=\"url(#pf9a590b2b8)\" d=\"M 57.911818 227.344512 \r\nL 60.955455 227.344512 \r\nL 60.955455 227.344512 \r\nL 57.911818 227.344512 \r\nz\r\n\" style=\"fill:#1f77b4;opacity:0.4;\"/>\r\n   </g>\r\n   <g id=\"patch_5\">\r\n    <path clip-path=\"url(#pf9a590b2b8)\" d=\"M 60.955455 227.344512 \r\nL 63.999091 227.344512 \r\nL 63.999091 227.344512 \r\nL 60.955455 227.344512 \r\nz\r\n\" style=\"fill:#1f77b4;opacity:0.4;\"/>\r\n   </g>\r\n   <g id=\"patch_6\">\r\n    <path clip-path=\"url(#pf9a590b2b8)\" d=\"M 63.999091 227.344512 \r\nL 67.042727 227.344512 \r\nL 67.042727 227.344512 \r\nL 63.999091 227.344512 \r\nz\r\n\" style=\"fill:#1f77b4;opacity:0.4;\"/>\r\n   </g>\r\n   <g id=\"patch_7\">\r\n    <path clip-path=\"url(#pf9a590b2b8)\" d=\"M 67.042727 227.344512 \r\nL 70.086364 227.344512 \r\nL 70.086364 227.344512 \r\nL 67.042727 227.344512 \r\nz\r\n\" style=\"fill:#1f77b4;opacity:0.4;\"/>\r\n   </g>\r\n   <g id=\"patch_8\">\r\n    <path clip-path=\"url(#pf9a590b2b8)\" d=\"M 70.086364 227.344512 \r\nL 73.13 227.344512 \r\nL 73.13 222.498377 \r\nL 70.086364 222.498377 \r\nz\r\n\" style=\"fill:#1f77b4;opacity:0.4;\"/>\r\n   </g>\r\n   <g id=\"patch_9\">\r\n    <path clip-path=\"url(#pf9a590b2b8)\" d=\"M 73.13 227.344512 \r\nL 76.173636 227.344512 \r\nL 76.173636 221.200305 \r\nL 73.13 221.200305 \r\nz\r\n\" style=\"fill:#1f77b4;opacity:0.4;\"/>\r\n   </g>\r\n   <g id=\"patch_10\">\r\n    <path clip-path=\"url(#pf9a590b2b8)\" d=\"M 76.173636 227.344512 \r\nL 79.217273 227.344512 \r\nL 79.217273 199.479238 \r\nL 76.173636 199.479238 \r\nz\r\n\" style=\"fill:#1f77b4;opacity:0.4;\"/>\r\n   </g>\r\n   <g id=\"patch_11\">\r\n    <path clip-path=\"url(#pf9a590b2b8)\" d=\"M 79.217273 227.344512 \r\nL 82.260909 227.344512 \r\nL 82.260909 218.517624 \r\nL 79.217273 218.517624 \r\nz\r\n\" style=\"fill:#1f77b4;opacity:0.4;\"/>\r\n   </g>\r\n   <g id=\"patch_12\">\r\n    <path clip-path=\"url(#pf9a590b2b8)\" d=\"M 82.260909 227.344512 \r\nL 85.304545 227.344512 \r\nL 85.304545 91.566206 \r\nL 82.260909 91.566206 \r\nz\r\n\" style=\"fill:#1f77b4;opacity:0.4;\"/>\r\n   </g>\r\n   <g id=\"patch_13\">\r\n    <path clip-path=\"url(#pf9a590b2b8)\" d=\"M 85.304545 227.344512 \r\nL 88.348182 227.344512 \r\nL 88.348182 33.672205 \r\nL 85.304545 33.672205 \r\nz\r\n\" style=\"fill:#1f77b4;opacity:0.4;\"/>\r\n   </g>\r\n   <g id=\"patch_14\">\r\n    <path clip-path=\"url(#pf9a590b2b8)\" d=\"M 88.348182 227.344512 \r\nL 91.391818 227.344512 \r\nL 91.391818 171.613964 \r\nL 88.348182 171.613964 \r\nz\r\n\" style=\"fill:#1f77b4;opacity:0.4;\"/>\r\n   </g>\r\n   <g id=\"patch_15\">\r\n    <path clip-path=\"url(#pf9a590b2b8)\" d=\"M 91.391818 227.344512 \r\nL 94.435455 227.344512 \r\nL 94.435455 165.210143 \r\nL 91.391818 165.210143 \r\nz\r\n\" style=\"fill:#1f77b4;opacity:0.4;\"/>\r\n   </g>\r\n   <g id=\"patch_16\">\r\n    <path clip-path=\"url(#pf9a590b2b8)\" d=\"M 94.435455 227.344512 \r\nL 97.479091 227.344512 \r\nL 97.479091 124.45069 \r\nL 94.435455 124.45069 \r\nz\r\n\" style=\"fill:#1f77b4;opacity:0.4;\"/>\r\n   </g>\r\n   <g id=\"patch_17\">\r\n    <path clip-path=\"url(#pf9a590b2b8)\" d=\"M 97.479091 227.344512 \r\nL 100.522727 227.344512 \r\nL 100.522727 20.258797 \r\nL 97.479091 20.258797 \r\nz\r\n\" style=\"fill:#1f77b4;opacity:0.4;\"/>\r\n   </g>\r\n   <g id=\"patch_18\">\r\n    <path clip-path=\"url(#pf9a590b2b8)\" d=\"M 100.522727 227.344512 \r\nL 103.566364 227.344512 \r\nL 103.566364 87.152762 \r\nL 100.522727 87.152762 \r\nz\r\n\" style=\"fill:#1f77b4;opacity:0.4;\"/>\r\n   </g>\r\n   <g id=\"patch_19\">\r\n    <path clip-path=\"url(#pf9a590b2b8)\" d=\"M 103.566364 227.344512 \r\nL 106.61 227.344512 \r\nL 106.61 140.719856 \r\nL 103.566364 140.719856 \r\nz\r\n\" style=\"fill:#1f77b4;opacity:0.4;\"/>\r\n   </g>\r\n   <g id=\"patch_20\">\r\n    <path clip-path=\"url(#pf9a590b2b8)\" d=\"M 106.61 227.344512 \r\nL 109.653636 227.344512 \r\nL 109.653636 202.59461 \r\nL 106.61 202.59461 \r\nz\r\n\" style=\"fill:#1f77b4;opacity:0.4;\"/>\r\n   </g>\r\n   <g id=\"patch_21\">\r\n    <path clip-path=\"url(#pf9a590b2b8)\" d=\"M 109.653636 227.344512 \r\nL 112.697273 227.344512 \r\nL 112.697273 217.652242 \r\nL 109.653636 217.652242 \r\nz\r\n\" style=\"fill:#1f77b4;opacity:0.4;\"/>\r\n   </g>\r\n   <g id=\"patch_22\">\r\n    <path clip-path=\"url(#pf9a590b2b8)\" d=\"M 112.697273 227.344512 \r\nL 115.740909 227.344512 \r\nL 115.740909 222.931068 \r\nL 112.697273 222.931068 \r\nz\r\n\" style=\"fill:#1f77b4;opacity:0.4;\"/>\r\n   </g>\r\n   <g id=\"patch_23\">\r\n    <path clip-path=\"url(#pf9a590b2b8)\" d=\"M 115.740909 227.344512 \r\nL 118.784545 227.344512 \r\nL 118.784545 223.190682 \r\nL 115.740909 223.190682 \r\nz\r\n\" style=\"fill:#1f77b4;opacity:0.4;\"/>\r\n   </g>\r\n   <g id=\"patch_24\">\r\n    <path clip-path=\"url(#pf9a590b2b8)\" d=\"M 118.784545 227.344512 \r\nL 121.828182 227.344512 \r\nL 121.828182 221.113767 \r\nL 118.784545 221.113767 \r\nz\r\n\" style=\"fill:#1f77b4;opacity:0.4;\"/>\r\n   </g>\r\n   <g id=\"patch_25\">\r\n    <path clip-path=\"url(#pf9a590b2b8)\" d=\"M 121.828182 227.344512 \r\nL 124.871818 227.344512 \r\nL 124.871818 221.027229 \r\nL 121.828182 221.027229 \r\nz\r\n\" style=\"fill:#1f77b4;opacity:0.4;\"/>\r\n   </g>\r\n   <g id=\"patch_26\">\r\n    <path clip-path=\"url(#pf9a590b2b8)\" d=\"M 124.871818 227.344512 \r\nL 127.915455 227.344512 \r\nL 127.915455 222.498377 \r\nL 124.871818 222.498377 \r\nz\r\n\" style=\"fill:#1f77b4;opacity:0.4;\"/>\r\n   </g>\r\n   <g id=\"patch_27\">\r\n    <path clip-path=\"url(#pf9a590b2b8)\" d=\"M 127.915455 227.344512 \r\nL 130.959091 227.344512 \r\nL 130.959091 224.402216 \r\nL 127.915455 224.402216 \r\nz\r\n\" style=\"fill:#1f77b4;opacity:0.4;\"/>\r\n   </g>\r\n   <g id=\"patch_28\">\r\n    <path clip-path=\"url(#pf9a590b2b8)\" d=\"M 130.959091 227.344512 \r\nL 134.002727 227.344512 \r\nL 134.002727 225.181059 \r\nL 130.959091 225.181059 \r\nz\r\n\" style=\"fill:#1f77b4;opacity:0.4;\"/>\r\n   </g>\r\n   <g id=\"patch_29\">\r\n    <path clip-path=\"url(#pf9a590b2b8)\" d=\"M 134.002727 227.344512 \r\nL 137.046364 227.344512 \r\nL 137.046364 225.959902 \r\nL 134.002727 225.959902 \r\nz\r\n\" style=\"fill:#1f77b4;opacity:0.4;\"/>\r\n   </g>\r\n   <g id=\"patch_30\">\r\n    <path clip-path=\"url(#pf9a590b2b8)\" d=\"M 137.046364 227.344512 \r\nL 140.09 227.344512 \r\nL 140.09 226.738745 \r\nL 137.046364 226.738745 \r\nz\r\n\" style=\"fill:#1f77b4;opacity:0.4;\"/>\r\n   </g>\r\n   <g id=\"patch_31\">\r\n    <path clip-path=\"url(#pf9a590b2b8)\" d=\"M 140.09 227.344512 \r\nL 143.133636 227.344512 \r\nL 143.133636 226.825283 \r\nL 140.09 226.825283 \r\nz\r\n\" style=\"fill:#1f77b4;opacity:0.4;\"/>\r\n   </g>\r\n   <g id=\"patch_32\">\r\n    <path clip-path=\"url(#pf9a590b2b8)\" d=\"M 143.133636 227.344512 \r\nL 146.177273 227.344512 \r\nL 146.177273 226.652207 \r\nL 143.133636 226.652207 \r\nz\r\n\" style=\"fill:#1f77b4;opacity:0.4;\"/>\r\n   </g>\r\n   <g id=\"patch_33\">\r\n    <path clip-path=\"url(#pf9a590b2b8)\" d=\"M 146.177273 227.344512 \r\nL 149.220909 227.344512 \r\nL 149.220909 227.084897 \r\nL 146.177273 227.084897 \r\nz\r\n\" style=\"fill:#1f77b4;opacity:0.4;\"/>\r\n   </g>\r\n   <g id=\"patch_34\">\r\n    <path clip-path=\"url(#pf9a590b2b8)\" d=\"M 149.220909 227.344512 \r\nL 152.264545 227.344512 \r\nL 152.264545 226.911821 \r\nL 149.220909 226.911821 \r\nz\r\n\" style=\"fill:#1f77b4;opacity:0.4;\"/>\r\n   </g>\r\n   <g id=\"patch_35\">\r\n    <path clip-path=\"url(#pf9a590b2b8)\" d=\"M 152.264545 227.344512 \r\nL 155.308182 227.344512 \r\nL 155.308182 227.171435 \r\nL 152.264545 227.171435 \r\nz\r\n\" style=\"fill:#1f77b4;opacity:0.4;\"/>\r\n   </g>\r\n   <g id=\"patch_36\">\r\n    <path clip-path=\"url(#pf9a590b2b8)\" d=\"M 155.308182 227.344512 \r\nL 158.351818 227.344512 \r\nL 158.351818 227.257973 \r\nL 155.308182 227.257973 \r\nz\r\n\" style=\"fill:#1f77b4;opacity:0.4;\"/>\r\n   </g>\r\n   <g id=\"patch_37\">\r\n    <path clip-path=\"url(#pf9a590b2b8)\" d=\"M 158.351818 227.344512 \r\nL 161.395455 227.344512 \r\nL 161.395455 227.171435 \r\nL 158.351818 227.171435 \r\nz\r\n\" style=\"fill:#1f77b4;opacity:0.4;\"/>\r\n   </g>\r\n   <g id=\"patch_38\">\r\n    <path clip-path=\"url(#pf9a590b2b8)\" d=\"M 161.395455 227.344512 \r\nL 164.439091 227.344512 \r\nL 164.439091 227.257973 \r\nL 161.395455 227.257973 \r\nz\r\n\" style=\"fill:#1f77b4;opacity:0.4;\"/>\r\n   </g>\r\n   <g id=\"patch_39\">\r\n    <path clip-path=\"url(#pf9a590b2b8)\" d=\"M 164.439091 227.344512 \r\nL 167.482727 227.344512 \r\nL 167.482727 227.344512 \r\nL 164.439091 227.344512 \r\nz\r\n\" style=\"fill:#1f77b4;opacity:0.4;\"/>\r\n   </g>\r\n   <g id=\"patch_40\">\r\n    <path clip-path=\"url(#pf9a590b2b8)\" d=\"M 167.482727 227.344512 \r\nL 170.526364 227.344512 \r\nL 170.526364 226.998359 \r\nL 167.482727 226.998359 \r\nz\r\n\" style=\"fill:#1f77b4;opacity:0.4;\"/>\r\n   </g>\r\n   <g id=\"patch_41\">\r\n    <path clip-path=\"url(#pf9a590b2b8)\" d=\"M 170.526364 227.344512 \r\nL 173.57 227.344512 \r\nL 173.57 227.084897 \r\nL 170.526364 227.084897 \r\nz\r\n\" style=\"fill:#1f77b4;opacity:0.4;\"/>\r\n   </g>\r\n   <g id=\"patch_42\">\r\n    <path clip-path=\"url(#pf9a590b2b8)\" d=\"M 173.57 227.344512 \r\nL 176.613636 227.344512 \r\nL 176.613636 226.738745 \r\nL 173.57 226.738745 \r\nz\r\n\" style=\"fill:#1f77b4;opacity:0.4;\"/>\r\n   </g>\r\n   <g id=\"patch_43\">\r\n    <path clip-path=\"url(#pf9a590b2b8)\" d=\"M 176.613636 227.344512 \r\nL 179.657273 227.344512 \r\nL 179.657273 226.911821 \r\nL 176.613636 226.911821 \r\nz\r\n\" style=\"fill:#1f77b4;opacity:0.4;\"/>\r\n   </g>\r\n   <g id=\"patch_44\">\r\n    <path clip-path=\"url(#pf9a590b2b8)\" d=\"M 179.657273 227.344512 \r\nL 182.700909 227.344512 \r\nL 182.700909 227.257973 \r\nL 179.657273 227.257973 \r\nz\r\n\" style=\"fill:#1f77b4;opacity:0.4;\"/>\r\n   </g>\r\n   <g id=\"patch_45\">\r\n    <path clip-path=\"url(#pf9a590b2b8)\" d=\"M 182.700909 227.344512 \r\nL 185.744545 227.344512 \r\nL 185.744545 227.344512 \r\nL 182.700909 227.344512 \r\nz\r\n\" style=\"fill:#1f77b4;opacity:0.4;\"/>\r\n   </g>\r\n   <g id=\"patch_46\">\r\n    <path clip-path=\"url(#pf9a590b2b8)\" d=\"M 185.744545 227.344512 \r\nL 188.788182 227.344512 \r\nL 188.788182 227.257973 \r\nL 185.744545 227.257973 \r\nz\r\n\" style=\"fill:#1f77b4;opacity:0.4;\"/>\r\n   </g>\r\n   <g id=\"patch_47\">\r\n    <path clip-path=\"url(#pf9a590b2b8)\" d=\"M 188.788182 227.344512 \r\nL 191.831818 227.344512 \r\nL 191.831818 227.344512 \r\nL 188.788182 227.344512 \r\nz\r\n\" style=\"fill:#1f77b4;opacity:0.4;\"/>\r\n   </g>\r\n   <g id=\"patch_48\">\r\n    <path clip-path=\"url(#pf9a590b2b8)\" d=\"M 191.831818 227.344512 \r\nL 194.875455 227.344512 \r\nL 194.875455 227.257973 \r\nL 191.831818 227.257973 \r\nz\r\n\" style=\"fill:#1f77b4;opacity:0.4;\"/>\r\n   </g>\r\n   <g id=\"patch_49\">\r\n    <path clip-path=\"url(#pf9a590b2b8)\" d=\"M 194.875455 227.344512 \r\nL 197.919091 227.344512 \r\nL 197.919091 227.257973 \r\nL 194.875455 227.257973 \r\nz\r\n\" style=\"fill:#1f77b4;opacity:0.4;\"/>\r\n   </g>\r\n   <g id=\"patch_50\">\r\n    <path clip-path=\"url(#pf9a590b2b8)\" d=\"M 197.919091 227.344512 \r\nL 200.962727 227.344512 \r\nL 200.962727 227.344512 \r\nL 197.919091 227.344512 \r\nz\r\n\" style=\"fill:#1f77b4;opacity:0.4;\"/>\r\n   </g>\r\n   <g id=\"patch_51\">\r\n    <path clip-path=\"url(#pf9a590b2b8)\" d=\"M 200.962727 227.344512 \r\nL 204.006364 227.344512 \r\nL 204.006364 227.344512 \r\nL 200.962727 227.344512 \r\nz\r\n\" style=\"fill:#1f77b4;opacity:0.4;\"/>\r\n   </g>\r\n   <g id=\"patch_52\">\r\n    <path clip-path=\"url(#pf9a590b2b8)\" d=\"M 204.006364 227.344512 \r\nL 207.05 227.344512 \r\nL 207.05 227.344512 \r\nL 204.006364 227.344512 \r\nz\r\n\" style=\"fill:#1f77b4;opacity:0.4;\"/>\r\n   </g>\r\n   <g id=\"patch_53\">\r\n    <path clip-path=\"url(#pf9a590b2b8)\" d=\"M 207.05 227.344512 \r\nL 210.093636 227.344512 \r\nL 210.093636 227.344512 \r\nL 207.05 227.344512 \r\nz\r\n\" style=\"fill:#1f77b4;opacity:0.4;\"/>\r\n   </g>\r\n   <g id=\"patch_54\">\r\n    <path clip-path=\"url(#pf9a590b2b8)\" d=\"M 210.093636 227.344512 \r\nL 213.137273 227.344512 \r\nL 213.137273 227.344512 \r\nL 210.093636 227.344512 \r\nz\r\n\" style=\"fill:#1f77b4;opacity:0.4;\"/>\r\n   </g>\r\n   <g id=\"patch_55\">\r\n    <path clip-path=\"url(#pf9a590b2b8)\" d=\"M 213.137273 227.344512 \r\nL 216.180909 227.344512 \r\nL 216.180909 227.344512 \r\nL 213.137273 227.344512 \r\nz\r\n\" style=\"fill:#1f77b4;opacity:0.4;\"/>\r\n   </g>\r\n   <g id=\"patch_56\">\r\n    <path clip-path=\"url(#pf9a590b2b8)\" d=\"M 216.180909 227.344512 \r\nL 219.224545 227.344512 \r\nL 219.224545 227.257973 \r\nL 216.180909 227.257973 \r\nz\r\n\" style=\"fill:#1f77b4;opacity:0.4;\"/>\r\n   </g>\r\n   <g id=\"patch_57\">\r\n    <path clip-path=\"url(#pf9a590b2b8)\" d=\"M 219.224545 227.344512 \r\nL 222.268182 227.344512 \r\nL 222.268182 227.344512 \r\nL 219.224545 227.344512 \r\nz\r\n\" style=\"fill:#1f77b4;opacity:0.4;\"/>\r\n   </g>\r\n   <g id=\"patch_58\">\r\n    <path clip-path=\"url(#pf9a590b2b8)\" d=\"M 222.268182 227.344512 \r\nL 225.311818 227.344512 \r\nL 225.311818 227.344512 \r\nL 222.268182 227.344512 \r\nz\r\n\" style=\"fill:#1f77b4;opacity:0.4;\"/>\r\n   </g>\r\n   <g id=\"patch_59\">\r\n    <path clip-path=\"url(#pf9a590b2b8)\" d=\"M 225.311818 227.344512 \r\nL 228.355455 227.344512 \r\nL 228.355455 227.344512 \r\nL 225.311818 227.344512 \r\nz\r\n\" style=\"fill:#1f77b4;opacity:0.4;\"/>\r\n   </g>\r\n   <g id=\"patch_60\">\r\n    <path clip-path=\"url(#pf9a590b2b8)\" d=\"M 228.355455 227.344512 \r\nL 231.399091 227.344512 \r\nL 231.399091 227.344512 \r\nL 228.355455 227.344512 \r\nz\r\n\" style=\"fill:#1f77b4;opacity:0.4;\"/>\r\n   </g>\r\n   <g id=\"patch_61\">\r\n    <path clip-path=\"url(#pf9a590b2b8)\" d=\"M 231.399091 227.344512 \r\nL 234.442727 227.344512 \r\nL 234.442727 227.344512 \r\nL 231.399091 227.344512 \r\nz\r\n\" style=\"fill:#1f77b4;opacity:0.4;\"/>\r\n   </g>\r\n   <g id=\"patch_62\">\r\n    <path clip-path=\"url(#pf9a590b2b8)\" d=\"M 234.442727 227.344512 \r\nL 237.486364 227.344512 \r\nL 237.486364 227.344512 \r\nL 234.442727 227.344512 \r\nz\r\n\" style=\"fill:#1f77b4;opacity:0.4;\"/>\r\n   </g>\r\n   <g id=\"patch_63\">\r\n    <path clip-path=\"url(#pf9a590b2b8)\" d=\"M 237.486364 227.344512 \r\nL 240.53 227.344512 \r\nL 240.53 227.257973 \r\nL 237.486364 227.257973 \r\nz\r\n\" style=\"fill:#1f77b4;opacity:0.4;\"/>\r\n   </g>\r\n   <g id=\"patch_64\">\r\n    <path clip-path=\"url(#pf9a590b2b8)\" d=\"M 240.53 227.344512 \r\nL 243.573636 227.344512 \r\nL 243.573636 227.344512 \r\nL 240.53 227.344512 \r\nz\r\n\" style=\"fill:#1f77b4;opacity:0.4;\"/>\r\n   </g>\r\n   <g id=\"patch_65\">\r\n    <path clip-path=\"url(#pf9a590b2b8)\" d=\"M 243.573636 227.344512 \r\nL 246.617273 227.344512 \r\nL 246.617273 227.344512 \r\nL 243.573636 227.344512 \r\nz\r\n\" style=\"fill:#1f77b4;opacity:0.4;\"/>\r\n   </g>\r\n   <g id=\"patch_66\">\r\n    <path clip-path=\"url(#pf9a590b2b8)\" d=\"M 246.617273 227.344512 \r\nL 249.660909 227.344512 \r\nL 249.660909 227.344512 \r\nL 246.617273 227.344512 \r\nz\r\n\" style=\"fill:#1f77b4;opacity:0.4;\"/>\r\n   </g>\r\n   <g id=\"patch_67\">\r\n    <path clip-path=\"url(#pf9a590b2b8)\" d=\"M 249.660909 227.344512 \r\nL 252.704545 227.344512 \r\nL 252.704545 227.344512 \r\nL 249.660909 227.344512 \r\nz\r\n\" style=\"fill:#1f77b4;opacity:0.4;\"/>\r\n   </g>\r\n   <g id=\"patch_68\">\r\n    <path clip-path=\"url(#pf9a590b2b8)\" d=\"M 252.704545 227.344512 \r\nL 255.748182 227.344512 \r\nL 255.748182 227.344512 \r\nL 252.704545 227.344512 \r\nz\r\n\" style=\"fill:#1f77b4;opacity:0.4;\"/>\r\n   </g>\r\n   <g id=\"patch_69\">\r\n    <path clip-path=\"url(#pf9a590b2b8)\" d=\"M 255.748182 227.344512 \r\nL 258.791818 227.344512 \r\nL 258.791818 227.344512 \r\nL 255.748182 227.344512 \r\nz\r\n\" style=\"fill:#1f77b4;opacity:0.4;\"/>\r\n   </g>\r\n   <g id=\"patch_70\">\r\n    <path clip-path=\"url(#pf9a590b2b8)\" d=\"M 258.791818 227.344512 \r\nL 261.835455 227.344512 \r\nL 261.835455 227.344512 \r\nL 258.791818 227.344512 \r\nz\r\n\" style=\"fill:#1f77b4;opacity:0.4;\"/>\r\n   </g>\r\n   <g id=\"patch_71\">\r\n    <path clip-path=\"url(#pf9a590b2b8)\" d=\"M 261.835455 227.344512 \r\nL 264.879091 227.344512 \r\nL 264.879091 227.257973 \r\nL 261.835455 227.257973 \r\nz\r\n\" style=\"fill:#1f77b4;opacity:0.4;\"/>\r\n   </g>\r\n   <g id=\"patch_72\">\r\n    <path clip-path=\"url(#pf9a590b2b8)\" d=\"M 264.879091 227.344512 \r\nL 267.922727 227.344512 \r\nL 267.922727 227.344512 \r\nL 264.879091 227.344512 \r\nz\r\n\" style=\"fill:#1f77b4;opacity:0.4;\"/>\r\n   </g>\r\n   <g id=\"patch_73\">\r\n    <path clip-path=\"url(#pf9a590b2b8)\" d=\"M 267.922727 227.344512 \r\nL 270.966364 227.344512 \r\nL 270.966364 227.344512 \r\nL 267.922727 227.344512 \r\nz\r\n\" style=\"fill:#1f77b4;opacity:0.4;\"/>\r\n   </g>\r\n   <g id=\"patch_74\">\r\n    <path clip-path=\"url(#pf9a590b2b8)\" d=\"M 270.966364 227.344512 \r\nL 274.01 227.344512 \r\nL 274.01 227.344512 \r\nL 270.966364 227.344512 \r\nz\r\n\" style=\"fill:#1f77b4;opacity:0.4;\"/>\r\n   </g>\r\n   <g id=\"patch_75\">\r\n    <path clip-path=\"url(#pf9a590b2b8)\" d=\"M 274.01 227.344512 \r\nL 277.053636 227.344512 \r\nL 277.053636 227.344512 \r\nL 274.01 227.344512 \r\nz\r\n\" style=\"fill:#1f77b4;opacity:0.4;\"/>\r\n   </g>\r\n   <g id=\"patch_76\">\r\n    <path clip-path=\"url(#pf9a590b2b8)\" d=\"M 277.053636 227.344512 \r\nL 280.097273 227.344512 \r\nL 280.097273 227.344512 \r\nL 277.053636 227.344512 \r\nz\r\n\" style=\"fill:#1f77b4;opacity:0.4;\"/>\r\n   </g>\r\n   <g id=\"patch_77\">\r\n    <path clip-path=\"url(#pf9a590b2b8)\" d=\"M 280.097273 227.344512 \r\nL 283.140909 227.344512 \r\nL 283.140909 227.344512 \r\nL 280.097273 227.344512 \r\nz\r\n\" style=\"fill:#1f77b4;opacity:0.4;\"/>\r\n   </g>\r\n   <g id=\"patch_78\">\r\n    <path clip-path=\"url(#pf9a590b2b8)\" d=\"M 283.140909 227.344512 \r\nL 286.184545 227.344512 \r\nL 286.184545 227.344512 \r\nL 283.140909 227.344512 \r\nz\r\n\" style=\"fill:#1f77b4;opacity:0.4;\"/>\r\n   </g>\r\n   <g id=\"patch_79\">\r\n    <path clip-path=\"url(#pf9a590b2b8)\" d=\"M 286.184545 227.344512 \r\nL 289.228182 227.344512 \r\nL 289.228182 227.344512 \r\nL 286.184545 227.344512 \r\nz\r\n\" style=\"fill:#1f77b4;opacity:0.4;\"/>\r\n   </g>\r\n   <g id=\"patch_80\">\r\n    <path clip-path=\"url(#pf9a590b2b8)\" d=\"M 289.228182 227.344512 \r\nL 292.271818 227.344512 \r\nL 292.271818 227.257973 \r\nL 289.228182 227.257973 \r\nz\r\n\" style=\"fill:#1f77b4;opacity:0.4;\"/>\r\n   </g>\r\n   <g id=\"patch_81\">\r\n    <path clip-path=\"url(#pf9a590b2b8)\" d=\"M 292.271818 227.344512 \r\nL 295.315455 227.344512 \r\nL 295.315455 227.344512 \r\nL 292.271818 227.344512 \r\nz\r\n\" style=\"fill:#1f77b4;opacity:0.4;\"/>\r\n   </g>\r\n   <g id=\"patch_82\">\r\n    <path clip-path=\"url(#pf9a590b2b8)\" d=\"M 295.315455 227.344512 \r\nL 298.359091 227.344512 \r\nL 298.359091 227.344512 \r\nL 295.315455 227.344512 \r\nz\r\n\" style=\"fill:#1f77b4;opacity:0.4;\"/>\r\n   </g>\r\n   <g id=\"patch_83\">\r\n    <path clip-path=\"url(#pf9a590b2b8)\" d=\"M 298.359091 227.344512 \r\nL 301.402727 227.344512 \r\nL 301.402727 227.344512 \r\nL 298.359091 227.344512 \r\nz\r\n\" style=\"fill:#1f77b4;opacity:0.4;\"/>\r\n   </g>\r\n   <g id=\"patch_84\">\r\n    <path clip-path=\"url(#pf9a590b2b8)\" d=\"M 301.402727 227.344512 \r\nL 304.446364 227.344512 \r\nL 304.446364 227.344512 \r\nL 301.402727 227.344512 \r\nz\r\n\" style=\"fill:#1f77b4;opacity:0.4;\"/>\r\n   </g>\r\n   <g id=\"patch_85\">\r\n    <path clip-path=\"url(#pf9a590b2b8)\" d=\"M 304.446364 227.344512 \r\nL 307.49 227.344512 \r\nL 307.49 227.344512 \r\nL 304.446364 227.344512 \r\nz\r\n\" style=\"fill:#1f77b4;opacity:0.4;\"/>\r\n   </g>\r\n   <g id=\"patch_86\">\r\n    <path clip-path=\"url(#pf9a590b2b8)\" d=\"M 307.49 227.344512 \r\nL 310.533636 227.344512 \r\nL 310.533636 227.344512 \r\nL 307.49 227.344512 \r\nz\r\n\" style=\"fill:#1f77b4;opacity:0.4;\"/>\r\n   </g>\r\n   <g id=\"patch_87\">\r\n    <path clip-path=\"url(#pf9a590b2b8)\" d=\"M 310.533636 227.344512 \r\nL 313.577273 227.344512 \r\nL 313.577273 227.344512 \r\nL 310.533636 227.344512 \r\nz\r\n\" style=\"fill:#1f77b4;opacity:0.4;\"/>\r\n   </g>\r\n   <g id=\"patch_88\">\r\n    <path clip-path=\"url(#pf9a590b2b8)\" d=\"M 313.577273 227.344512 \r\nL 316.620909 227.344512 \r\nL 316.620909 227.344512 \r\nL 313.577273 227.344512 \r\nz\r\n\" style=\"fill:#1f77b4;opacity:0.4;\"/>\r\n   </g>\r\n   <g id=\"patch_89\">\r\n    <path clip-path=\"url(#pf9a590b2b8)\" d=\"M 316.620909 227.344512 \r\nL 319.664545 227.344512 \r\nL 319.664545 227.344512 \r\nL 316.620909 227.344512 \r\nz\r\n\" style=\"fill:#1f77b4;opacity:0.4;\"/>\r\n   </g>\r\n   <g id=\"patch_90\">\r\n    <path clip-path=\"url(#pf9a590b2b8)\" d=\"M 319.664545 227.344512 \r\nL 322.708182 227.344512 \r\nL 322.708182 227.344512 \r\nL 319.664545 227.344512 \r\nz\r\n\" style=\"fill:#1f77b4;opacity:0.4;\"/>\r\n   </g>\r\n   <g id=\"patch_91\">\r\n    <path clip-path=\"url(#pf9a590b2b8)\" d=\"M 322.708182 227.344512 \r\nL 325.751818 227.344512 \r\nL 325.751818 227.344512 \r\nL 322.708182 227.344512 \r\nz\r\n\" style=\"fill:#1f77b4;opacity:0.4;\"/>\r\n   </g>\r\n   <g id=\"patch_92\">\r\n    <path clip-path=\"url(#pf9a590b2b8)\" d=\"M 325.751818 227.344512 \r\nL 328.795455 227.344512 \r\nL 328.795455 227.344512 \r\nL 325.751818 227.344512 \r\nz\r\n\" style=\"fill:#1f77b4;opacity:0.4;\"/>\r\n   </g>\r\n   <g id=\"patch_93\">\r\n    <path clip-path=\"url(#pf9a590b2b8)\" d=\"M 328.795455 227.344512 \r\nL 331.839091 227.344512 \r\nL 331.839091 227.344512 \r\nL 328.795455 227.344512 \r\nz\r\n\" style=\"fill:#1f77b4;opacity:0.4;\"/>\r\n   </g>\r\n   <g id=\"patch_94\">\r\n    <path clip-path=\"url(#pf9a590b2b8)\" d=\"M 331.839091 227.344512 \r\nL 334.882727 227.344512 \r\nL 334.882727 227.344512 \r\nL 331.839091 227.344512 \r\nz\r\n\" style=\"fill:#1f77b4;opacity:0.4;\"/>\r\n   </g>\r\n   <g id=\"patch_95\">\r\n    <path clip-path=\"url(#pf9a590b2b8)\" d=\"M 334.882727 227.344512 \r\nL 337.926364 227.344512 \r\nL 337.926364 227.344512 \r\nL 334.882727 227.344512 \r\nz\r\n\" style=\"fill:#1f77b4;opacity:0.4;\"/>\r\n   </g>\r\n   <g id=\"patch_96\">\r\n    <path clip-path=\"url(#pf9a590b2b8)\" d=\"M 337.926364 227.344512 \r\nL 340.97 227.344512 \r\nL 340.97 227.344512 \r\nL 337.926364 227.344512 \r\nz\r\n\" style=\"fill:#1f77b4;opacity:0.4;\"/>\r\n   </g>\r\n   <g id=\"patch_97\">\r\n    <path clip-path=\"url(#pf9a590b2b8)\" d=\"M 340.97 227.344512 \r\nL 344.013636 227.344512 \r\nL 344.013636 227.344512 \r\nL 340.97 227.344512 \r\nz\r\n\" style=\"fill:#1f77b4;opacity:0.4;\"/>\r\n   </g>\r\n   <g id=\"patch_98\">\r\n    <path clip-path=\"url(#pf9a590b2b8)\" d=\"M 344.013636 227.344512 \r\nL 347.057273 227.344512 \r\nL 347.057273 227.344512 \r\nL 344.013636 227.344512 \r\nz\r\n\" style=\"fill:#1f77b4;opacity:0.4;\"/>\r\n   </g>\r\n   <g id=\"patch_99\">\r\n    <path clip-path=\"url(#pf9a590b2b8)\" d=\"M 347.057273 227.344512 \r\nL 350.100909 227.344512 \r\nL 350.100909 227.344512 \r\nL 347.057273 227.344512 \r\nz\r\n\" style=\"fill:#1f77b4;opacity:0.4;\"/>\r\n   </g>\r\n   <g id=\"patch_100\">\r\n    <path clip-path=\"url(#pf9a590b2b8)\" d=\"M 350.100909 227.344512 \r\nL 353.144545 227.344512 \r\nL 353.144545 227.344512 \r\nL 350.100909 227.344512 \r\nz\r\n\" style=\"fill:#1f77b4;opacity:0.4;\"/>\r\n   </g>\r\n   <g id=\"patch_101\">\r\n    <path clip-path=\"url(#pf9a590b2b8)\" d=\"M 353.144545 227.344512 \r\nL 356.188182 227.344512 \r\nL 356.188182 227.344512 \r\nL 353.144545 227.344512 \r\nz\r\n\" style=\"fill:#1f77b4;opacity:0.4;\"/>\r\n   </g>\r\n   <g id=\"patch_102\">\r\n    <path clip-path=\"url(#pf9a590b2b8)\" d=\"M 356.188182 227.344512 \r\nL 359.231818 227.344512 \r\nL 359.231818 227.257973 \r\nL 356.188182 227.257973 \r\nz\r\n\" style=\"fill:#1f77b4;opacity:0.4;\"/>\r\n   </g>\r\n   <g id=\"matplotlib.axis_1\">\r\n    <g id=\"xtick_1\">\r\n     <g id=\"line2d_1\">\r\n      <defs>\r\n       <path d=\"M 0 0 \r\nL 0 3.5 \r\n\" id=\"m06db126feb\" style=\"stroke:#000000;stroke-width:0.8;\"/>\r\n      </defs>\r\n      <g>\r\n       <use style=\"stroke:#000000;stroke-width:0.8;\" x=\"54.868182\" xlink:href=\"#m06db126feb\" y=\"227.344512\"/>\r\n      </g>\r\n     </g>\r\n     <g id=\"text_1\">\r\n      <!-- 0 -->\r\n      <defs>\r\n       <path d=\"M 31.78125 66.40625 \r\nQ 24.171875 66.40625 20.328125 58.90625 \r\nQ 16.5 51.421875 16.5 36.375 \r\nQ 16.5 21.390625 20.328125 13.890625 \r\nQ 24.171875 6.390625 31.78125 6.390625 \r\nQ 39.453125 6.390625 43.28125 13.890625 \r\nQ 47.125 21.390625 47.125 36.375 \r\nQ 47.125 51.421875 43.28125 58.90625 \r\nQ 39.453125 66.40625 31.78125 66.40625 \r\nz\r\nM 31.78125 74.21875 \r\nQ 44.046875 74.21875 50.515625 64.515625 \r\nQ 56.984375 54.828125 56.984375 36.375 \r\nQ 56.984375 17.96875 50.515625 8.265625 \r\nQ 44.046875 -1.421875 31.78125 -1.421875 \r\nQ 19.53125 -1.421875 13.0625 8.265625 \r\nQ 6.59375 17.96875 6.59375 36.375 \r\nQ 6.59375 54.828125 13.0625 64.515625 \r\nQ 19.53125 74.21875 31.78125 74.21875 \r\nz\r\n\" id=\"DejaVuSans-48\"/>\r\n      </defs>\r\n      <g transform=\"translate(51.686932 241.942949)scale(0.1 -0.1)\">\r\n       <use xlink:href=\"#DejaVuSans-48\"/>\r\n      </g>\r\n     </g>\r\n    </g>\r\n    <g id=\"xtick_2\">\r\n     <g id=\"line2d_2\">\r\n      <g>\r\n       <use style=\"stroke:#000000;stroke-width:0.8;\" x=\"100.983884\" xlink:href=\"#m06db126feb\" y=\"227.344512\"/>\r\n      </g>\r\n     </g>\r\n     <g id=\"text_2\">\r\n      <!-- 100 -->\r\n      <defs>\r\n       <path d=\"M 12.40625 8.296875 \r\nL 28.515625 8.296875 \r\nL 28.515625 63.921875 \r\nL 10.984375 60.40625 \r\nL 10.984375 69.390625 \r\nL 28.421875 72.90625 \r\nL 38.28125 72.90625 \r\nL 38.28125 8.296875 \r\nL 54.390625 8.296875 \r\nL 54.390625 0 \r\nL 12.40625 0 \r\nz\r\n\" id=\"DejaVuSans-49\"/>\r\n      </defs>\r\n      <g transform=\"translate(91.440134 241.942949)scale(0.1 -0.1)\">\r\n       <use xlink:href=\"#DejaVuSans-49\"/>\r\n       <use x=\"63.623047\" xlink:href=\"#DejaVuSans-48\"/>\r\n       <use x=\"127.246094\" xlink:href=\"#DejaVuSans-48\"/>\r\n      </g>\r\n     </g>\r\n    </g>\r\n    <g id=\"xtick_3\">\r\n     <g id=\"line2d_3\">\r\n      <g>\r\n       <use style=\"stroke:#000000;stroke-width:0.8;\" x=\"147.099587\" xlink:href=\"#m06db126feb\" y=\"227.344512\"/>\r\n      </g>\r\n     </g>\r\n     <g id=\"text_3\">\r\n      <!-- 200 -->\r\n      <defs>\r\n       <path d=\"M 19.1875 8.296875 \r\nL 53.609375 8.296875 \r\nL 53.609375 0 \r\nL 7.328125 0 \r\nL 7.328125 8.296875 \r\nQ 12.9375 14.109375 22.625 23.890625 \r\nQ 32.328125 33.6875 34.8125 36.53125 \r\nQ 39.546875 41.84375 41.421875 45.53125 \r\nQ 43.3125 49.21875 43.3125 52.78125 \r\nQ 43.3125 58.59375 39.234375 62.25 \r\nQ 35.15625 65.921875 28.609375 65.921875 \r\nQ 23.96875 65.921875 18.8125 64.3125 \r\nQ 13.671875 62.703125 7.8125 59.421875 \r\nL 7.8125 69.390625 \r\nQ 13.765625 71.78125 18.9375 73 \r\nQ 24.125 74.21875 28.421875 74.21875 \r\nQ 39.75 74.21875 46.484375 68.546875 \r\nQ 53.21875 62.890625 53.21875 53.421875 \r\nQ 53.21875 48.921875 51.53125 44.890625 \r\nQ 49.859375 40.875 45.40625 35.40625 \r\nQ 44.1875 33.984375 37.640625 27.21875 \r\nQ 31.109375 20.453125 19.1875 8.296875 \r\nz\r\n\" id=\"DejaVuSans-50\"/>\r\n      </defs>\r\n      <g transform=\"translate(137.555837 241.942949)scale(0.1 -0.1)\">\r\n       <use xlink:href=\"#DejaVuSans-50\"/>\r\n       <use x=\"63.623047\" xlink:href=\"#DejaVuSans-48\"/>\r\n       <use x=\"127.246094\" xlink:href=\"#DejaVuSans-48\"/>\r\n      </g>\r\n     </g>\r\n    </g>\r\n    <g id=\"xtick_4\">\r\n     <g id=\"line2d_4\">\r\n      <g>\r\n       <use style=\"stroke:#000000;stroke-width:0.8;\" x=\"193.215289\" xlink:href=\"#m06db126feb\" y=\"227.344512\"/>\r\n      </g>\r\n     </g>\r\n     <g id=\"text_4\">\r\n      <!-- 300 -->\r\n      <defs>\r\n       <path d=\"M 40.578125 39.3125 \r\nQ 47.65625 37.796875 51.625 33 \r\nQ 55.609375 28.21875 55.609375 21.1875 \r\nQ 55.609375 10.40625 48.1875 4.484375 \r\nQ 40.765625 -1.421875 27.09375 -1.421875 \r\nQ 22.515625 -1.421875 17.65625 -0.515625 \r\nQ 12.796875 0.390625 7.625 2.203125 \r\nL 7.625 11.71875 \r\nQ 11.71875 9.328125 16.59375 8.109375 \r\nQ 21.484375 6.890625 26.8125 6.890625 \r\nQ 36.078125 6.890625 40.9375 10.546875 \r\nQ 45.796875 14.203125 45.796875 21.1875 \r\nQ 45.796875 27.640625 41.28125 31.265625 \r\nQ 36.765625 34.90625 28.71875 34.90625 \r\nL 20.21875 34.90625 \r\nL 20.21875 43.015625 \r\nL 29.109375 43.015625 \r\nQ 36.375 43.015625 40.234375 45.921875 \r\nQ 44.09375 48.828125 44.09375 54.296875 \r\nQ 44.09375 59.90625 40.109375 62.90625 \r\nQ 36.140625 65.921875 28.71875 65.921875 \r\nQ 24.65625 65.921875 20.015625 65.03125 \r\nQ 15.375 64.15625 9.8125 62.3125 \r\nL 9.8125 71.09375 \r\nQ 15.4375 72.65625 20.34375 73.4375 \r\nQ 25.25 74.21875 29.59375 74.21875 \r\nQ 40.828125 74.21875 47.359375 69.109375 \r\nQ 53.90625 64.015625 53.90625 55.328125 \r\nQ 53.90625 49.265625 50.4375 45.09375 \r\nQ 46.96875 40.921875 40.578125 39.3125 \r\nz\r\n\" id=\"DejaVuSans-51\"/>\r\n      </defs>\r\n      <g transform=\"translate(183.671539 241.942949)scale(0.1 -0.1)\">\r\n       <use xlink:href=\"#DejaVuSans-51\"/>\r\n       <use x=\"63.623047\" xlink:href=\"#DejaVuSans-48\"/>\r\n       <use x=\"127.246094\" xlink:href=\"#DejaVuSans-48\"/>\r\n      </g>\r\n     </g>\r\n    </g>\r\n    <g id=\"xtick_5\">\r\n     <g id=\"line2d_5\">\r\n      <g>\r\n       <use style=\"stroke:#000000;stroke-width:0.8;\" x=\"239.330992\" xlink:href=\"#m06db126feb\" y=\"227.344512\"/>\r\n      </g>\r\n     </g>\r\n     <g id=\"text_5\">\r\n      <!-- 400 -->\r\n      <defs>\r\n       <path d=\"M 37.796875 64.3125 \r\nL 12.890625 25.390625 \r\nL 37.796875 25.390625 \r\nz\r\nM 35.203125 72.90625 \r\nL 47.609375 72.90625 \r\nL 47.609375 25.390625 \r\nL 58.015625 25.390625 \r\nL 58.015625 17.1875 \r\nL 47.609375 17.1875 \r\nL 47.609375 0 \r\nL 37.796875 0 \r\nL 37.796875 17.1875 \r\nL 4.890625 17.1875 \r\nL 4.890625 26.703125 \r\nz\r\n\" id=\"DejaVuSans-52\"/>\r\n      </defs>\r\n      <g transform=\"translate(229.787242 241.942949)scale(0.1 -0.1)\">\r\n       <use xlink:href=\"#DejaVuSans-52\"/>\r\n       <use x=\"63.623047\" xlink:href=\"#DejaVuSans-48\"/>\r\n       <use x=\"127.246094\" xlink:href=\"#DejaVuSans-48\"/>\r\n      </g>\r\n     </g>\r\n    </g>\r\n    <g id=\"xtick_6\">\r\n     <g id=\"line2d_6\">\r\n      <g>\r\n       <use style=\"stroke:#000000;stroke-width:0.8;\" x=\"285.446694\" xlink:href=\"#m06db126feb\" y=\"227.344512\"/>\r\n      </g>\r\n     </g>\r\n     <g id=\"text_6\">\r\n      <!-- 500 -->\r\n      <defs>\r\n       <path d=\"M 10.796875 72.90625 \r\nL 49.515625 72.90625 \r\nL 49.515625 64.59375 \r\nL 19.828125 64.59375 \r\nL 19.828125 46.734375 \r\nQ 21.96875 47.46875 24.109375 47.828125 \r\nQ 26.265625 48.1875 28.421875 48.1875 \r\nQ 40.625 48.1875 47.75 41.5 \r\nQ 54.890625 34.8125 54.890625 23.390625 \r\nQ 54.890625 11.625 47.5625 5.09375 \r\nQ 40.234375 -1.421875 26.90625 -1.421875 \r\nQ 22.3125 -1.421875 17.546875 -0.640625 \r\nQ 12.796875 0.140625 7.71875 1.703125 \r\nL 7.71875 11.625 \r\nQ 12.109375 9.234375 16.796875 8.0625 \r\nQ 21.484375 6.890625 26.703125 6.890625 \r\nQ 35.15625 6.890625 40.078125 11.328125 \r\nQ 45.015625 15.765625 45.015625 23.390625 \r\nQ 45.015625 31 40.078125 35.4375 \r\nQ 35.15625 39.890625 26.703125 39.890625 \r\nQ 22.75 39.890625 18.8125 39.015625 \r\nQ 14.890625 38.140625 10.796875 36.28125 \r\nz\r\n\" id=\"DejaVuSans-53\"/>\r\n      </defs>\r\n      <g transform=\"translate(275.902944 241.942949)scale(0.1 -0.1)\">\r\n       <use xlink:href=\"#DejaVuSans-53\"/>\r\n       <use x=\"63.623047\" xlink:href=\"#DejaVuSans-48\"/>\r\n       <use x=\"127.246094\" xlink:href=\"#DejaVuSans-48\"/>\r\n      </g>\r\n     </g>\r\n    </g>\r\n    <g id=\"xtick_7\">\r\n     <g id=\"line2d_7\">\r\n      <g>\r\n       <use style=\"stroke:#000000;stroke-width:0.8;\" x=\"331.562397\" xlink:href=\"#m06db126feb\" y=\"227.344512\"/>\r\n      </g>\r\n     </g>\r\n     <g id=\"text_7\">\r\n      <!-- 600 -->\r\n      <defs>\r\n       <path d=\"M 33.015625 40.375 \r\nQ 26.375 40.375 22.484375 35.828125 \r\nQ 18.609375 31.296875 18.609375 23.390625 \r\nQ 18.609375 15.53125 22.484375 10.953125 \r\nQ 26.375 6.390625 33.015625 6.390625 \r\nQ 39.65625 6.390625 43.53125 10.953125 \r\nQ 47.40625 15.53125 47.40625 23.390625 \r\nQ 47.40625 31.296875 43.53125 35.828125 \r\nQ 39.65625 40.375 33.015625 40.375 \r\nz\r\nM 52.59375 71.296875 \r\nL 52.59375 62.3125 \r\nQ 48.875 64.0625 45.09375 64.984375 \r\nQ 41.3125 65.921875 37.59375 65.921875 \r\nQ 27.828125 65.921875 22.671875 59.328125 \r\nQ 17.53125 52.734375 16.796875 39.40625 \r\nQ 19.671875 43.65625 24.015625 45.921875 \r\nQ 28.375 48.1875 33.59375 48.1875 \r\nQ 44.578125 48.1875 50.953125 41.515625 \r\nQ 57.328125 34.859375 57.328125 23.390625 \r\nQ 57.328125 12.15625 50.6875 5.359375 \r\nQ 44.046875 -1.421875 33.015625 -1.421875 \r\nQ 20.359375 -1.421875 13.671875 8.265625 \r\nQ 6.984375 17.96875 6.984375 36.375 \r\nQ 6.984375 53.65625 15.1875 63.9375 \r\nQ 23.390625 74.21875 37.203125 74.21875 \r\nQ 40.921875 74.21875 44.703125 73.484375 \r\nQ 48.484375 72.75 52.59375 71.296875 \r\nz\r\n\" id=\"DejaVuSans-54\"/>\r\n      </defs>\r\n      <g transform=\"translate(322.018647 241.942949)scale(0.1 -0.1)\">\r\n       <use xlink:href=\"#DejaVuSans-54\"/>\r\n       <use x=\"63.623047\" xlink:href=\"#DejaVuSans-48\"/>\r\n       <use x=\"127.246094\" xlink:href=\"#DejaVuSans-48\"/>\r\n      </g>\r\n     </g>\r\n    </g>\r\n    <g id=\"text_8\">\r\n     <!-- travel_time_sec -->\r\n     <defs>\r\n      <path d=\"M 18.3125 70.21875 \r\nL 18.3125 54.6875 \r\nL 36.8125 54.6875 \r\nL 36.8125 47.703125 \r\nL 18.3125 47.703125 \r\nL 18.3125 18.015625 \r\nQ 18.3125 11.328125 20.140625 9.421875 \r\nQ 21.96875 7.515625 27.59375 7.515625 \r\nL 36.8125 7.515625 \r\nL 36.8125 0 \r\nL 27.59375 0 \r\nQ 17.1875 0 13.234375 3.875 \r\nQ 9.28125 7.765625 9.28125 18.015625 \r\nL 9.28125 47.703125 \r\nL 2.6875 47.703125 \r\nL 2.6875 54.6875 \r\nL 9.28125 54.6875 \r\nL 9.28125 70.21875 \r\nz\r\n\" id=\"DejaVuSans-116\"/>\r\n      <path d=\"M 41.109375 46.296875 \r\nQ 39.59375 47.171875 37.8125 47.578125 \r\nQ 36.03125 48 33.890625 48 \r\nQ 26.265625 48 22.1875 43.046875 \r\nQ 18.109375 38.09375 18.109375 28.8125 \r\nL 18.109375 0 \r\nL 9.078125 0 \r\nL 9.078125 54.6875 \r\nL 18.109375 54.6875 \r\nL 18.109375 46.1875 \r\nQ 20.953125 51.171875 25.484375 53.578125 \r\nQ 30.03125 56 36.53125 56 \r\nQ 37.453125 56 38.578125 55.875 \r\nQ 39.703125 55.765625 41.0625 55.515625 \r\nz\r\n\" id=\"DejaVuSans-114\"/>\r\n      <path d=\"M 34.28125 27.484375 \r\nQ 23.390625 27.484375 19.1875 25 \r\nQ 14.984375 22.515625 14.984375 16.5 \r\nQ 14.984375 11.71875 18.140625 8.90625 \r\nQ 21.296875 6.109375 26.703125 6.109375 \r\nQ 34.1875 6.109375 38.703125 11.40625 \r\nQ 43.21875 16.703125 43.21875 25.484375 \r\nL 43.21875 27.484375 \r\nz\r\nM 52.203125 31.203125 \r\nL 52.203125 0 \r\nL 43.21875 0 \r\nL 43.21875 8.296875 \r\nQ 40.140625 3.328125 35.546875 0.953125 \r\nQ 30.953125 -1.421875 24.3125 -1.421875 \r\nQ 15.921875 -1.421875 10.953125 3.296875 \r\nQ 6 8.015625 6 15.921875 \r\nQ 6 25.140625 12.171875 29.828125 \r\nQ 18.359375 34.515625 30.609375 34.515625 \r\nL 43.21875 34.515625 \r\nL 43.21875 35.40625 \r\nQ 43.21875 41.609375 39.140625 45 \r\nQ 35.0625 48.390625 27.6875 48.390625 \r\nQ 23 48.390625 18.546875 47.265625 \r\nQ 14.109375 46.140625 10.015625 43.890625 \r\nL 10.015625 52.203125 \r\nQ 14.9375 54.109375 19.578125 55.046875 \r\nQ 24.21875 56 28.609375 56 \r\nQ 40.484375 56 46.34375 49.84375 \r\nQ 52.203125 43.703125 52.203125 31.203125 \r\nz\r\n\" id=\"DejaVuSans-97\"/>\r\n      <path d=\"M 2.984375 54.6875 \r\nL 12.5 54.6875 \r\nL 29.59375 8.796875 \r\nL 46.6875 54.6875 \r\nL 56.203125 54.6875 \r\nL 35.6875 0 \r\nL 23.484375 0 \r\nz\r\n\" id=\"DejaVuSans-118\"/>\r\n      <path d=\"M 56.203125 29.59375 \r\nL 56.203125 25.203125 \r\nL 14.890625 25.203125 \r\nQ 15.484375 15.921875 20.484375 11.0625 \r\nQ 25.484375 6.203125 34.421875 6.203125 \r\nQ 39.59375 6.203125 44.453125 7.46875 \r\nQ 49.3125 8.734375 54.109375 11.28125 \r\nL 54.109375 2.78125 \r\nQ 49.265625 0.734375 44.1875 -0.34375 \r\nQ 39.109375 -1.421875 33.890625 -1.421875 \r\nQ 20.796875 -1.421875 13.15625 6.1875 \r\nQ 5.515625 13.8125 5.515625 26.8125 \r\nQ 5.515625 40.234375 12.765625 48.109375 \r\nQ 20.015625 56 32.328125 56 \r\nQ 43.359375 56 49.78125 48.890625 \r\nQ 56.203125 41.796875 56.203125 29.59375 \r\nz\r\nM 47.21875 32.234375 \r\nQ 47.125 39.59375 43.09375 43.984375 \r\nQ 39.0625 48.390625 32.421875 48.390625 \r\nQ 24.90625 48.390625 20.390625 44.140625 \r\nQ 15.875 39.890625 15.1875 32.171875 \r\nz\r\n\" id=\"DejaVuSans-101\"/>\r\n      <path d=\"M 9.421875 75.984375 \r\nL 18.40625 75.984375 \r\nL 18.40625 0 \r\nL 9.421875 0 \r\nz\r\n\" id=\"DejaVuSans-108\"/>\r\n      <path d=\"M 50.984375 -16.609375 \r\nL 50.984375 -23.578125 \r\nL -0.984375 -23.578125 \r\nL -0.984375 -16.609375 \r\nz\r\n\" id=\"DejaVuSans-95\"/>\r\n      <path d=\"M 9.421875 54.6875 \r\nL 18.40625 54.6875 \r\nL 18.40625 0 \r\nL 9.421875 0 \r\nz\r\nM 9.421875 75.984375 \r\nL 18.40625 75.984375 \r\nL 18.40625 64.59375 \r\nL 9.421875 64.59375 \r\nz\r\n\" id=\"DejaVuSans-105\"/>\r\n      <path d=\"M 52 44.1875 \r\nQ 55.375 50.25 60.0625 53.125 \r\nQ 64.75 56 71.09375 56 \r\nQ 79.640625 56 84.28125 50.015625 \r\nQ 88.921875 44.046875 88.921875 33.015625 \r\nL 88.921875 0 \r\nL 79.890625 0 \r\nL 79.890625 32.71875 \r\nQ 79.890625 40.578125 77.09375 44.375 \r\nQ 74.3125 48.1875 68.609375 48.1875 \r\nQ 61.625 48.1875 57.5625 43.546875 \r\nQ 53.515625 38.921875 53.515625 30.90625 \r\nL 53.515625 0 \r\nL 44.484375 0 \r\nL 44.484375 32.71875 \r\nQ 44.484375 40.625 41.703125 44.40625 \r\nQ 38.921875 48.1875 33.109375 48.1875 \r\nQ 26.21875 48.1875 22.15625 43.53125 \r\nQ 18.109375 38.875 18.109375 30.90625 \r\nL 18.109375 0 \r\nL 9.078125 0 \r\nL 9.078125 54.6875 \r\nL 18.109375 54.6875 \r\nL 18.109375 46.1875 \r\nQ 21.1875 51.21875 25.484375 53.609375 \r\nQ 29.78125 56 35.6875 56 \r\nQ 41.65625 56 45.828125 52.96875 \r\nQ 50 49.953125 52 44.1875 \r\nz\r\n\" id=\"DejaVuSans-109\"/>\r\n      <path d=\"M 44.28125 53.078125 \r\nL 44.28125 44.578125 \r\nQ 40.484375 46.53125 36.375 47.5 \r\nQ 32.28125 48.484375 27.875 48.484375 \r\nQ 21.1875 48.484375 17.84375 46.4375 \r\nQ 14.5 44.390625 14.5 40.28125 \r\nQ 14.5 37.15625 16.890625 35.375 \r\nQ 19.28125 33.59375 26.515625 31.984375 \r\nL 29.59375 31.296875 \r\nQ 39.15625 29.25 43.1875 25.515625 \r\nQ 47.21875 21.78125 47.21875 15.09375 \r\nQ 47.21875 7.46875 41.1875 3.015625 \r\nQ 35.15625 -1.421875 24.609375 -1.421875 \r\nQ 20.21875 -1.421875 15.453125 -0.5625 \r\nQ 10.6875 0.296875 5.421875 2 \r\nL 5.421875 11.28125 \r\nQ 10.40625 8.6875 15.234375 7.390625 \r\nQ 20.0625 6.109375 24.8125 6.109375 \r\nQ 31.15625 6.109375 34.5625 8.28125 \r\nQ 37.984375 10.453125 37.984375 14.40625 \r\nQ 37.984375 18.0625 35.515625 20.015625 \r\nQ 33.0625 21.96875 24.703125 23.78125 \r\nL 21.578125 24.515625 \r\nQ 13.234375 26.265625 9.515625 29.90625 \r\nQ 5.8125 33.546875 5.8125 39.890625 \r\nQ 5.8125 47.609375 11.28125 51.796875 \r\nQ 16.75 56 26.8125 56 \r\nQ 31.78125 56 36.171875 55.265625 \r\nQ 40.578125 54.546875 44.28125 53.078125 \r\nz\r\n\" id=\"DejaVuSans-115\"/>\r\n      <path d=\"M 48.78125 52.59375 \r\nL 48.78125 44.1875 \r\nQ 44.96875 46.296875 41.140625 47.34375 \r\nQ 37.3125 48.390625 33.40625 48.390625 \r\nQ 24.65625 48.390625 19.8125 42.84375 \r\nQ 14.984375 37.3125 14.984375 27.296875 \r\nQ 14.984375 17.28125 19.8125 11.734375 \r\nQ 24.65625 6.203125 33.40625 6.203125 \r\nQ 37.3125 6.203125 41.140625 7.25 \r\nQ 44.96875 8.296875 48.78125 10.40625 \r\nL 48.78125 2.09375 \r\nQ 45.015625 0.34375 40.984375 -0.53125 \r\nQ 36.96875 -1.421875 32.421875 -1.421875 \r\nQ 20.0625 -1.421875 12.78125 6.34375 \r\nQ 5.515625 14.109375 5.515625 27.296875 \r\nQ 5.515625 40.671875 12.859375 48.328125 \r\nQ 20.21875 56 33.015625 56 \r\nQ 37.15625 56 41.109375 55.140625 \r\nQ 45.0625 54.296875 48.78125 52.59375 \r\nz\r\n\" id=\"DejaVuSans-99\"/>\r\n     </defs>\r\n     <g transform=\"translate(167.81875 255.621074)scale(0.1 -0.1)\">\r\n      <use xlink:href=\"#DejaVuSans-116\"/>\r\n      <use x=\"39.208984\" xlink:href=\"#DejaVuSans-114\"/>\r\n      <use x=\"80.322266\" xlink:href=\"#DejaVuSans-97\"/>\r\n      <use x=\"141.601562\" xlink:href=\"#DejaVuSans-118\"/>\r\n      <use x=\"200.78125\" xlink:href=\"#DejaVuSans-101\"/>\r\n      <use x=\"262.304688\" xlink:href=\"#DejaVuSans-108\"/>\r\n      <use x=\"290.087891\" xlink:href=\"#DejaVuSans-95\"/>\r\n      <use x=\"340.087891\" xlink:href=\"#DejaVuSans-116\"/>\r\n      <use x=\"379.296875\" xlink:href=\"#DejaVuSans-105\"/>\r\n      <use x=\"407.080078\" xlink:href=\"#DejaVuSans-109\"/>\r\n      <use x=\"504.492188\" xlink:href=\"#DejaVuSans-101\"/>\r\n      <use x=\"566.015625\" xlink:href=\"#DejaVuSans-95\"/>\r\n      <use x=\"616.015625\" xlink:href=\"#DejaVuSans-115\"/>\r\n      <use x=\"668.115234\" xlink:href=\"#DejaVuSans-101\"/>\r\n      <use x=\"729.638672\" xlink:href=\"#DejaVuSans-99\"/>\r\n     </g>\r\n    </g>\r\n   </g>\r\n   <g id=\"matplotlib.axis_2\">\r\n    <g id=\"ytick_1\">\r\n     <g id=\"line2d_8\">\r\n      <defs>\r\n       <path d=\"M 0 0 \r\nL -3.5 0 \r\n\" id=\"m210e12098a\" style=\"stroke:#000000;stroke-width:0.8;\"/>\r\n      </defs>\r\n      <g>\r\n       <use style=\"stroke:#000000;stroke-width:0.8;\" x=\"39.65\" xlink:href=\"#m210e12098a\" y=\"227.344512\"/>\r\n      </g>\r\n     </g>\r\n     <g id=\"text_9\">\r\n      <!-- 0 -->\r\n      <g transform=\"translate(26.2875 231.14373)scale(0.1 -0.1)\">\r\n       <use xlink:href=\"#DejaVuSans-48\"/>\r\n      </g>\r\n     </g>\r\n    </g>\r\n    <g id=\"ytick_2\">\r\n     <g id=\"line2d_9\">\r\n      <g>\r\n       <use style=\"stroke:#000000;stroke-width:0.8;\" x=\"39.65\" xlink:href=\"#m210e12098a\" y=\"184.075453\"/>\r\n      </g>\r\n     </g>\r\n     <g id=\"text_10\">\r\n      <!-- 500 -->\r\n      <g transform=\"translate(13.5625 187.874672)scale(0.1 -0.1)\">\r\n       <use xlink:href=\"#DejaVuSans-53\"/>\r\n       <use x=\"63.623047\" xlink:href=\"#DejaVuSans-48\"/>\r\n       <use x=\"127.246094\" xlink:href=\"#DejaVuSans-48\"/>\r\n      </g>\r\n     </g>\r\n    </g>\r\n    <g id=\"ytick_3\">\r\n     <g id=\"line2d_10\">\r\n      <g>\r\n       <use style=\"stroke:#000000;stroke-width:0.8;\" x=\"39.65\" xlink:href=\"#m210e12098a\" y=\"140.806394\"/>\r\n      </g>\r\n     </g>\r\n     <g id=\"text_11\">\r\n      <!-- 1000 -->\r\n      <g transform=\"translate(7.2 144.605613)scale(0.1 -0.1)\">\r\n       <use xlink:href=\"#DejaVuSans-49\"/>\r\n       <use x=\"63.623047\" xlink:href=\"#DejaVuSans-48\"/>\r\n       <use x=\"127.246094\" xlink:href=\"#DejaVuSans-48\"/>\r\n       <use x=\"190.869141\" xlink:href=\"#DejaVuSans-48\"/>\r\n      </g>\r\n     </g>\r\n    </g>\r\n    <g id=\"ytick_4\">\r\n     <g id=\"line2d_11\">\r\n      <g>\r\n       <use style=\"stroke:#000000;stroke-width:0.8;\" x=\"39.65\" xlink:href=\"#m210e12098a\" y=\"97.537336\"/>\r\n      </g>\r\n     </g>\r\n     <g id=\"text_12\">\r\n      <!-- 1500 -->\r\n      <g transform=\"translate(7.2 101.336555)scale(0.1 -0.1)\">\r\n       <use xlink:href=\"#DejaVuSans-49\"/>\r\n       <use x=\"63.623047\" xlink:href=\"#DejaVuSans-53\"/>\r\n       <use x=\"127.246094\" xlink:href=\"#DejaVuSans-48\"/>\r\n       <use x=\"190.869141\" xlink:href=\"#DejaVuSans-48\"/>\r\n      </g>\r\n     </g>\r\n    </g>\r\n    <g id=\"ytick_5\">\r\n     <g id=\"line2d_12\">\r\n      <g>\r\n       <use style=\"stroke:#000000;stroke-width:0.8;\" x=\"39.65\" xlink:href=\"#m210e12098a\" y=\"54.268277\"/>\r\n      </g>\r\n     </g>\r\n     <g id=\"text_13\">\r\n      <!-- 2000 -->\r\n      <g transform=\"translate(7.2 58.067496)scale(0.1 -0.1)\">\r\n       <use xlink:href=\"#DejaVuSans-50\"/>\r\n       <use x=\"63.623047\" xlink:href=\"#DejaVuSans-48\"/>\r\n       <use x=\"127.246094\" xlink:href=\"#DejaVuSans-48\"/>\r\n       <use x=\"190.869141\" xlink:href=\"#DejaVuSans-48\"/>\r\n      </g>\r\n     </g>\r\n    </g>\r\n    <g id=\"ytick_6\">\r\n     <g id=\"line2d_13\">\r\n      <g>\r\n       <use style=\"stroke:#000000;stroke-width:0.8;\" x=\"39.65\" xlink:href=\"#m210e12098a\" y=\"10.999219\"/>\r\n      </g>\r\n     </g>\r\n     <g id=\"text_14\">\r\n      <!-- 2500 -->\r\n      <g transform=\"translate(7.2 14.798438)scale(0.1 -0.1)\">\r\n       <use xlink:href=\"#DejaVuSans-50\"/>\r\n       <use x=\"63.623047\" xlink:href=\"#DejaVuSans-53\"/>\r\n       <use x=\"127.246094\" xlink:href=\"#DejaVuSans-48\"/>\r\n       <use x=\"190.869141\" xlink:href=\"#DejaVuSans-48\"/>\r\n      </g>\r\n     </g>\r\n    </g>\r\n   </g>\r\n   <g id=\"patch_103\">\r\n    <path d=\"M 39.65 227.344512 \r\nL 39.65 9.904512 \r\n\" style=\"fill:none;stroke:#000000;stroke-linecap:square;stroke-linejoin:miter;stroke-width:0.8;\"/>\r\n   </g>\r\n   <g id=\"patch_104\">\r\n    <path d=\"M 374.45 227.344512 \r\nL 374.45 9.904512 \r\n\" style=\"fill:none;stroke:#000000;stroke-linecap:square;stroke-linejoin:miter;stroke-width:0.8;\"/>\r\n   </g>\r\n   <g id=\"patch_105\">\r\n    <path d=\"M 39.65 227.344512 \r\nL 374.45 227.344512 \r\n\" style=\"fill:none;stroke:#000000;stroke-linecap:square;stroke-linejoin:miter;stroke-width:0.8;\"/>\r\n   </g>\r\n   <g id=\"patch_106\">\r\n    <path d=\"M 39.65 9.904512 \r\nL 374.45 9.904512 \r\n\" style=\"fill:none;stroke:#000000;stroke-linecap:square;stroke-linejoin:miter;stroke-width:0.8;\"/>\r\n   </g>\r\n  </g>\r\n </g>\r\n <defs>\r\n  <clipPath id=\"pf9a590b2b8\">\r\n   <rect height=\"217.44\" width=\"334.8\" x=\"39.65\" y=\"9.904512\"/>\r\n  </clipPath>\r\n </defs>\r\n</svg>\r\n",
      "text/plain": "<Figure size 432x288 with 1 Axes>"
     },
     "metadata": {
      "needs_background": "light"
     },
     "output_type": "display_data"
    }
   ],
   "source": [
    "sns.distplot(df_travel['travel_time_sec'], bins=100, kde=False);"
   ]
  },
  {
   "cell_type": "code",
   "execution_count": null,
   "metadata": {},
   "outputs": [],
   "source": []
  }
 ]
}