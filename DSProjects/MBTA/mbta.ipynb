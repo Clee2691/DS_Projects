{
 "nbformat": 4,
 "nbformat_minor": 2,
 "metadata": {
  "language_info": {
   "name": "python",
   "codemirror_mode": {
    "name": "ipython",
    "version": 3
   },
   "version": "3.7.4-final"
  },
  "orig_nbformat": 2,
  "file_extension": ".py",
  "mimetype": "text/x-python",
  "name": "python",
  "npconvert_exporter": "python",
  "pygments_lexer": "ipython3",
  "version": 3,
  "kernelspec": {
   "name": "python37464bitvenvvenve9c1ae90b66648e1b1faed220c3b4031",
   "display_name": "Python 3.7.4 64-bit ('venv': venv)"
  }
 },
 "cells": [
  {
   "cell_type": "code",
   "execution_count": 14,
   "metadata": {},
   "outputs": [],
   "source": [
    "import pandas as pd\n",
    "import requests\n",
    "import json"
   ]
  },
  {
   "cell_type": "code",
   "execution_count": 1,
   "metadata": {},
   "outputs": [],
   "source": [
    "api_key = 'IAZkS7mDd0SPwAZUAuHPLQ'\n",
    "realtime_url = 'http://realtime.mbta.com/developer/api/v2.1/'"
   ]
  },
  {
   "cell_type": "code",
   "execution_count": null,
   "metadata": {},
   "outputs": [],
   "source": [
    "# Define parameters for the query URL\n",
    "\n",
    "# Can choose (traveltimes, dwelltimes, headways, dailymetrics, currentmetrics, dailypredictionmetrics, predictionmetrics, events, pastalerts)\n",
    "p_query = 'events?'\n",
    "from_stop = ''\n",
    "to_stop = ''\n",
    "route = '' # Optional\n",
    "from_datetime = ''\n",
    "to_datetime = ''\n",
    "stop = ''"
   ]
  },
  {
   "cell_type": "code",
   "execution_count": 54,
   "metadata": {},
   "outputs": [],
   "source": [
    "test_url = \"http://realtime.mbta.com/developer/api/v2.1/events?api_key=wX9NwuHnZU2ToO7GmGR9uw&format=json&from_datetime=1537812000&to_datetime=1537819200&stop=70027&route=Orange\"\n",
    "\n",
    "test_response = requests.get(test_url).json()\n",
    "\n",
    "\n"
   ]
  },
  {
   "cell_type": "code",
   "execution_count": 59,
   "metadata": {},
   "outputs": [],
   "source": [
    "df = pd.DataFrame.from_dict(test_response['events'])"
   ]
  },
  {
   "cell_type": "code",
   "execution_count": 60,
   "metadata": {},
   "outputs": [
    {
     "data": {
      "text/html": "<div>\n<style scoped>\n    .dataframe tbody tr th:only-of-type {\n        vertical-align: middle;\n    }\n\n    .dataframe tbody tr th {\n        vertical-align: top;\n    }\n\n    .dataframe thead th {\n        text-align: right;\n    }\n</style>\n<table border=\"1\" class=\"dataframe\">\n  <thead>\n    <tr style=\"text-align: right;\">\n      <th></th>\n      <th>service_date</th>\n      <th>route_id</th>\n      <th>trip_id</th>\n      <th>direction_id</th>\n      <th>stop_id</th>\n      <th>stop_name</th>\n      <th>stop_sequence</th>\n      <th>vehicle_id</th>\n      <th>vehicle_label</th>\n      <th>event_type</th>\n      <th>event_time</th>\n      <th>event_time_sec</th>\n    </tr>\n  </thead>\n  <tbody>\n    <tr>\n      <th>0</th>\n      <td>2018-09-24</td>\n      <td>Orange</td>\n      <td>37940348</td>\n      <td>1</td>\n      <td>70027</td>\n      <td>North Station</td>\n      <td>130</td>\n      <td>O-54585C12</td>\n      <td>1277</td>\n      <td>ARR</td>\n      <td>1537815786</td>\n      <td>54186</td>\n    </tr>\n    <tr>\n      <th>1</th>\n      <td>2018-09-24</td>\n      <td>Orange</td>\n      <td>37940348</td>\n      <td>1</td>\n      <td>70027</td>\n      <td>North Station</td>\n      <td>130</td>\n      <td>O-54585C12</td>\n      <td>1277</td>\n      <td>DEP</td>\n      <td>1537815838</td>\n      <td>54238</td>\n    </tr>\n    <tr>\n      <th>2</th>\n      <td>2018-09-24</td>\n      <td>Orange</td>\n      <td>37940347</td>\n      <td>1</td>\n      <td>70027</td>\n      <td>North Station</td>\n      <td>130</td>\n      <td>O-54585C13</td>\n      <td>1216</td>\n      <td>ARR</td>\n      <td>1537816117</td>\n      <td>54517</td>\n    </tr>\n    <tr>\n      <th>3</th>\n      <td>2018-09-24</td>\n      <td>Orange</td>\n      <td>37940347</td>\n      <td>1</td>\n      <td>70027</td>\n      <td>North Station</td>\n      <td>130</td>\n      <td>O-54585C13</td>\n      <td>1216</td>\n      <td>DEP</td>\n      <td>1537816167</td>\n      <td>54567</td>\n    </tr>\n    <tr>\n      <th>4</th>\n      <td>2018-09-24</td>\n      <td>Orange</td>\n      <td>37940361</td>\n      <td>1</td>\n      <td>70027</td>\n      <td>North Station</td>\n      <td>130</td>\n      <td>O-54584FC0</td>\n      <td>1225</td>\n      <td>ARR</td>\n      <td>1537816761</td>\n      <td>55161</td>\n    </tr>\n    <tr>\n      <th>5</th>\n      <td>2018-09-24</td>\n      <td>Orange</td>\n      <td>37940361</td>\n      <td>1</td>\n      <td>70027</td>\n      <td>North Station</td>\n      <td>130</td>\n      <td>O-54584FC0</td>\n      <td>1225</td>\n      <td>DEP</td>\n      <td>1537816822</td>\n      <td>55222</td>\n    </tr>\n    <tr>\n      <th>6</th>\n      <td>2018-09-24</td>\n      <td>Orange</td>\n      <td>37940349</td>\n      <td>1</td>\n      <td>70027</td>\n      <td>North Station</td>\n      <td>130</td>\n      <td>O-54585C2F</td>\n      <td>1282</td>\n      <td>ARR</td>\n      <td>1537816942</td>\n      <td>55342</td>\n    </tr>\n    <tr>\n      <th>7</th>\n      <td>2018-09-24</td>\n      <td>Orange</td>\n      <td>37940349</td>\n      <td>1</td>\n      <td>70027</td>\n      <td>North Station</td>\n      <td>130</td>\n      <td>O-54585C2F</td>\n      <td>1282</td>\n      <td>DEP</td>\n      <td>1537816993</td>\n      <td>55393</td>\n    </tr>\n    <tr>\n      <th>8</th>\n      <td>2018-09-24</td>\n      <td>Orange</td>\n      <td>37940206</td>\n      <td>1</td>\n      <td>70027</td>\n      <td>North Station</td>\n      <td>130</td>\n      <td>O-54584FD9</td>\n      <td>1235</td>\n      <td>ARR</td>\n      <td>1537817706</td>\n      <td>56106</td>\n    </tr>\n    <tr>\n      <th>9</th>\n      <td>2018-09-24</td>\n      <td>Orange</td>\n      <td>37940206</td>\n      <td>1</td>\n      <td>70027</td>\n      <td>North Station</td>\n      <td>130</td>\n      <td>O-54584FD9</td>\n      <td>1235</td>\n      <td>DEP</td>\n      <td>1537817764</td>\n      <td>56164</td>\n    </tr>\n    <tr>\n      <th>10</th>\n      <td>2018-09-24</td>\n      <td>Orange</td>\n      <td>37940350</td>\n      <td>1</td>\n      <td>70027</td>\n      <td>North Station</td>\n      <td>130</td>\n      <td>O-545857E3</td>\n      <td>1207</td>\n      <td>ARR</td>\n      <td>1537817952</td>\n      <td>56352</td>\n    </tr>\n    <tr>\n      <th>11</th>\n      <td>2018-09-24</td>\n      <td>Orange</td>\n      <td>37940350</td>\n      <td>1</td>\n      <td>70027</td>\n      <td>North Station</td>\n      <td>130</td>\n      <td>O-545857E3</td>\n      <td>1207</td>\n      <td>DEP</td>\n      <td>1537818008</td>\n      <td>56408</td>\n    </tr>\n    <tr>\n      <th>12</th>\n      <td>2018-09-24</td>\n      <td>Orange</td>\n      <td>37940208</td>\n      <td>1</td>\n      <td>70027</td>\n      <td>North Station</td>\n      <td>130</td>\n      <td>O-54585EC7</td>\n      <td>1254</td>\n      <td>ARR</td>\n      <td>1537818240</td>\n      <td>56640</td>\n    </tr>\n    <tr>\n      <th>13</th>\n      <td>2018-09-24</td>\n      <td>Orange</td>\n      <td>37940208</td>\n      <td>1</td>\n      <td>70027</td>\n      <td>North Station</td>\n      <td>130</td>\n      <td>O-54585EC7</td>\n      <td>1254</td>\n      <td>DEP</td>\n      <td>1537818289</td>\n      <td>56689</td>\n    </tr>\n    <tr>\n      <th>14</th>\n      <td>2018-09-24</td>\n      <td>Orange</td>\n      <td>37940083</td>\n      <td>1</td>\n      <td>70027</td>\n      <td>North Station</td>\n      <td>130</td>\n      <td>O-54583BB7</td>\n      <td>1310</td>\n      <td>ARR</td>\n      <td>1537818742</td>\n      <td>57142</td>\n    </tr>\n    <tr>\n      <th>15</th>\n      <td>2018-09-24</td>\n      <td>Orange</td>\n      <td>37940083</td>\n      <td>1</td>\n      <td>70027</td>\n      <td>North Station</td>\n      <td>130</td>\n      <td>O-54583BB7</td>\n      <td>1310</td>\n      <td>DEP</td>\n      <td>1537818807</td>\n      <td>57207</td>\n    </tr>\n    <tr>\n      <th>16</th>\n      <td>2018-09-24</td>\n      <td>Orange</td>\n      <td>37940100</td>\n      <td>1</td>\n      <td>70027</td>\n      <td>North Station</td>\n      <td>130</td>\n      <td>O-54585BF9</td>\n      <td>1264</td>\n      <td>ARR</td>\n      <td>1537819325</td>\n      <td>57725</td>\n    </tr>\n    <tr>\n      <th>17</th>\n      <td>2018-09-24</td>\n      <td>Orange</td>\n      <td>37940100</td>\n      <td>1</td>\n      <td>70027</td>\n      <td>North Station</td>\n      <td>130</td>\n      <td>O-54585BF9</td>\n      <td>1264</td>\n      <td>DEP</td>\n      <td>1537819384</td>\n      <td>57784</td>\n    </tr>\n    <tr>\n      <th>18</th>\n      <td>2018-09-24</td>\n      <td>Orange</td>\n      <td>37940107</td>\n      <td>1</td>\n      <td>70027</td>\n      <td>North Station</td>\n      <td>130</td>\n      <td>O-54583BC9</td>\n      <td>1316</td>\n      <td>ARR</td>\n      <td>1537819574</td>\n      <td>57974</td>\n    </tr>\n    <tr>\n      <th>19</th>\n      <td>2018-09-24</td>\n      <td>Orange</td>\n      <td>37940107</td>\n      <td>1</td>\n      <td>70027</td>\n      <td>North Station</td>\n      <td>130</td>\n      <td>O-54583BC9</td>\n      <td>1316</td>\n      <td>DEP</td>\n      <td>1537819643</td>\n      <td>58043</td>\n    </tr>\n    <tr>\n      <th>20</th>\n      <td>2018-09-24</td>\n      <td>Orange</td>\n      <td>37940090</td>\n      <td>1</td>\n      <td>70027</td>\n      <td>North Station</td>\n      <td>130</td>\n      <td>O-54585BFF</td>\n      <td>1252</td>\n      <td>ARR</td>\n      <td>1537819757</td>\n      <td>58157</td>\n    </tr>\n    <tr>\n      <th>21</th>\n      <td>2018-09-24</td>\n      <td>Orange</td>\n      <td>37940090</td>\n      <td>1</td>\n      <td>70027</td>\n      <td>North Station</td>\n      <td>130</td>\n      <td>O-54585BFF</td>\n      <td>1252</td>\n      <td>DEP</td>\n      <td>1537819813</td>\n      <td>58213</td>\n    </tr>\n    <tr>\n      <th>22</th>\n      <td>2018-09-24</td>\n      <td>Orange</td>\n      <td>37940086</td>\n      <td>1</td>\n      <td>70027</td>\n      <td>North Station</td>\n      <td>130</td>\n      <td>O-54585E4F</td>\n      <td>1236</td>\n      <td>ARR</td>\n      <td>1537820294</td>\n      <td>58694</td>\n    </tr>\n    <tr>\n      <th>23</th>\n      <td>2018-09-24</td>\n      <td>Orange</td>\n      <td>37940086</td>\n      <td>1</td>\n      <td>70027</td>\n      <td>North Station</td>\n      <td>130</td>\n      <td>O-54585E4F</td>\n      <td>1236</td>\n      <td>DEP</td>\n      <td>1537820354</td>\n      <td>58754</td>\n    </tr>\n    <tr>\n      <th>24</th>\n      <td>2018-09-24</td>\n      <td>Orange</td>\n      <td>37940211</td>\n      <td>1</td>\n      <td>70027</td>\n      <td>North Station</td>\n      <td>130</td>\n      <td>O-54585EDE</td>\n      <td>1272</td>\n      <td>ARR</td>\n      <td>1537820738</td>\n      <td>59138</td>\n    </tr>\n    <tr>\n      <th>25</th>\n      <td>2018-09-24</td>\n      <td>Orange</td>\n      <td>37940211</td>\n      <td>1</td>\n      <td>70027</td>\n      <td>North Station</td>\n      <td>130</td>\n      <td>O-54585EDE</td>\n      <td>1272</td>\n      <td>DEP</td>\n      <td>1537820807</td>\n      <td>59207</td>\n    </tr>\n    <tr>\n      <th>26</th>\n      <td>2018-09-24</td>\n      <td>Orange</td>\n      <td>37940212</td>\n      <td>1</td>\n      <td>70027</td>\n      <td>North Station</td>\n      <td>130</td>\n      <td>O-54585C63</td>\n      <td>1229</td>\n      <td>ARR</td>\n      <td>1537821093</td>\n      <td>59493</td>\n    </tr>\n    <tr>\n      <th>27</th>\n      <td>2018-09-24</td>\n      <td>Orange</td>\n      <td>37940212</td>\n      <td>1</td>\n      <td>70027</td>\n      <td>North Station</td>\n      <td>130</td>\n      <td>O-54585C63</td>\n      <td>1229</td>\n      <td>DEP</td>\n      <td>1537821155</td>\n      <td>59555</td>\n    </tr>\n    <tr>\n      <th>28</th>\n      <td>2018-09-24</td>\n      <td>Orange</td>\n      <td>37940213</td>\n      <td>1</td>\n      <td>70027</td>\n      <td>North Station</td>\n      <td>130</td>\n      <td>O-54584A28</td>\n      <td>1294</td>\n      <td>ARR</td>\n      <td>1537821469</td>\n      <td>59869</td>\n    </tr>\n    <tr>\n      <th>29</th>\n      <td>2018-09-24</td>\n      <td>Orange</td>\n      <td>37940213</td>\n      <td>1</td>\n      <td>70027</td>\n      <td>North Station</td>\n      <td>130</td>\n      <td>O-54584A28</td>\n      <td>1294</td>\n      <td>DEP</td>\n      <td>1537821543</td>\n      <td>59943</td>\n    </tr>\n    <tr>\n      <th>30</th>\n      <td>2018-09-24</td>\n      <td>Orange</td>\n      <td>37940214</td>\n      <td>1</td>\n      <td>70027</td>\n      <td>North Station</td>\n      <td>130</td>\n      <td>O-54585C30</td>\n      <td>1260</td>\n      <td>ARR</td>\n      <td>1537821713</td>\n      <td>60113</td>\n    </tr>\n    <tr>\n      <th>31</th>\n      <td>2018-09-24</td>\n      <td>Orange</td>\n      <td>37940214</td>\n      <td>1</td>\n      <td>70027</td>\n      <td>North Station</td>\n      <td>130</td>\n      <td>O-54585C30</td>\n      <td>1260</td>\n      <td>DEP</td>\n      <td>1537821767</td>\n      <td>60167</td>\n    </tr>\n    <tr>\n      <th>32</th>\n      <td>2018-09-24</td>\n      <td>Orange</td>\n      <td>37940215</td>\n      <td>1</td>\n      <td>70027</td>\n      <td>North Station</td>\n      <td>130</td>\n      <td>O-54585C12</td>\n      <td>1277</td>\n      <td>ARR</td>\n      <td>1537821927</td>\n      <td>60327</td>\n    </tr>\n    <tr>\n      <th>33</th>\n      <td>2018-09-24</td>\n      <td>Orange</td>\n      <td>37940215</td>\n      <td>1</td>\n      <td>70027</td>\n      <td>North Station</td>\n      <td>130</td>\n      <td>O-54585C12</td>\n      <td>1277</td>\n      <td>DEP</td>\n      <td>1537821982</td>\n      <td>60382</td>\n    </tr>\n    <tr>\n      <th>34</th>\n      <td>2018-09-24</td>\n      <td>Orange</td>\n      <td>37940216</td>\n      <td>1</td>\n      <td>70027</td>\n      <td>North Station</td>\n      <td>130</td>\n      <td>O-54585C13</td>\n      <td>1216</td>\n      <td>ARR</td>\n      <td>1537822238</td>\n      <td>60638</td>\n    </tr>\n    <tr>\n      <th>35</th>\n      <td>2018-09-24</td>\n      <td>Orange</td>\n      <td>37940216</td>\n      <td>1</td>\n      <td>70027</td>\n      <td>North Station</td>\n      <td>130</td>\n      <td>O-54585C13</td>\n      <td>1216</td>\n      <td>DEP</td>\n      <td>1537822307</td>\n      <td>60707</td>\n    </tr>\n    <tr>\n      <th>36</th>\n      <td>2018-09-24</td>\n      <td>Orange</td>\n      <td>37940217</td>\n      <td>1</td>\n      <td>70027</td>\n      <td>North Station</td>\n      <td>130</td>\n      <td>O-54584FC0</td>\n      <td>1225</td>\n      <td>ARR</td>\n      <td>1537822577</td>\n      <td>60977</td>\n    </tr>\n    <tr>\n      <th>37</th>\n      <td>2018-09-24</td>\n      <td>Orange</td>\n      <td>37940217</td>\n      <td>1</td>\n      <td>70027</td>\n      <td>North Station</td>\n      <td>130</td>\n      <td>O-54584FC0</td>\n      <td>1225</td>\n      <td>DEP</td>\n      <td>1537822641</td>\n      <td>61041</td>\n    </tr>\n  </tbody>\n</table>\n</div>",
      "text/plain": "   service_date route_id   trip_id  ... event_type  event_time event_time_sec\n0    2018-09-24   Orange  37940348  ...        ARR  1537815786          54186\n1    2018-09-24   Orange  37940348  ...        DEP  1537815838          54238\n2    2018-09-24   Orange  37940347  ...        ARR  1537816117          54517\n3    2018-09-24   Orange  37940347  ...        DEP  1537816167          54567\n4    2018-09-24   Orange  37940361  ...        ARR  1537816761          55161\n5    2018-09-24   Orange  37940361  ...        DEP  1537816822          55222\n6    2018-09-24   Orange  37940349  ...        ARR  1537816942          55342\n7    2018-09-24   Orange  37940349  ...        DEP  1537816993          55393\n8    2018-09-24   Orange  37940206  ...        ARR  1537817706          56106\n9    2018-09-24   Orange  37940206  ...        DEP  1537817764          56164\n10   2018-09-24   Orange  37940350  ...        ARR  1537817952          56352\n11   2018-09-24   Orange  37940350  ...        DEP  1537818008          56408\n12   2018-09-24   Orange  37940208  ...        ARR  1537818240          56640\n13   2018-09-24   Orange  37940208  ...        DEP  1537818289          56689\n14   2018-09-24   Orange  37940083  ...        ARR  1537818742          57142\n15   2018-09-24   Orange  37940083  ...        DEP  1537818807          57207\n16   2018-09-24   Orange  37940100  ...        ARR  1537819325          57725\n17   2018-09-24   Orange  37940100  ...        DEP  1537819384          57784\n18   2018-09-24   Orange  37940107  ...        ARR  1537819574          57974\n19   2018-09-24   Orange  37940107  ...        DEP  1537819643          58043\n20   2018-09-24   Orange  37940090  ...        ARR  1537819757          58157\n21   2018-09-24   Orange  37940090  ...        DEP  1537819813          58213\n22   2018-09-24   Orange  37940086  ...        ARR  1537820294          58694\n23   2018-09-24   Orange  37940086  ...        DEP  1537820354          58754\n24   2018-09-24   Orange  37940211  ...        ARR  1537820738          59138\n25   2018-09-24   Orange  37940211  ...        DEP  1537820807          59207\n26   2018-09-24   Orange  37940212  ...        ARR  1537821093          59493\n27   2018-09-24   Orange  37940212  ...        DEP  1537821155          59555\n28   2018-09-24   Orange  37940213  ...        ARR  1537821469          59869\n29   2018-09-24   Orange  37940213  ...        DEP  1537821543          59943\n30   2018-09-24   Orange  37940214  ...        ARR  1537821713          60113\n31   2018-09-24   Orange  37940214  ...        DEP  1537821767          60167\n32   2018-09-24   Orange  37940215  ...        ARR  1537821927          60327\n33   2018-09-24   Orange  37940215  ...        DEP  1537821982          60382\n34   2018-09-24   Orange  37940216  ...        ARR  1537822238          60638\n35   2018-09-24   Orange  37940216  ...        DEP  1537822307          60707\n36   2018-09-24   Orange  37940217  ...        ARR  1537822577          60977\n37   2018-09-24   Orange  37940217  ...        DEP  1537822641          61041\n\n[38 rows x 12 columns]"
     },
     "execution_count": 60,
     "metadata": {},
     "output_type": "execute_result"
    }
   ],
   "source": [
    "df"
   ]
  },
  {
   "cell_type": "code",
   "execution_count": null,
   "metadata": {},
   "outputs": [],
   "source": []
  }
 ]
}